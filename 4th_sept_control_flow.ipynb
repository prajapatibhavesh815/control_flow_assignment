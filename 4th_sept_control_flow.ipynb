{
 "cells": [
  {
   "cell_type": "markdown",
   "id": "00699ebd-1157-49cb-b527-2765305c7332",
   "metadata": {
    "tags": []
   },
   "source": [
    "                                                          Basic If-Else Statements:\n"
   ]
  },
  {
   "cell_type": "markdown",
   "id": "bda1633b-75b6-4259-8d20-ea9e556ba549",
   "metadata": {},
   "source": [
    "      1. Write a Python program to check if a given number is positive or negative.\n"
   ]
  },
  {
   "cell_type": "code",
   "execution_count": 4,
   "id": "7fc7e14f-3b16-4a16-90b0-ec0cac036aa3",
   "metadata": {},
   "outputs": [
    {
     "name": "stdin",
     "output_type": "stream",
     "text": [
      "Input a number:  .358\n"
     ]
    },
    {
     "name": "stdout",
     "output_type": "stream",
     "text": [
      "Number is Positive. \n"
     ]
    }
   ],
   "source": [
    "n = float(input('Input a number: '))\n",
    "print('Number is Positive. '\n",
    "    if n > 0\n",
    "else\n",
    "    'It is Zero!'\n",
    "    if n == 0\n",
    "else\n",
    "    'number is nagitive')\n",
    "    \n"
   ]
  },
  {
   "cell_type": "markdown",
   "id": "45dbfb55-e22a-4ceb-adda-b73280a15ef3",
   "metadata": {},
   "source": [
    "      2. Create a program that determines if a person is eligible to vote based on their age.\n"
   ]
  },
  {
   "cell_type": "code",
   "execution_count": 14,
   "id": "7d94fd14-bc11-4874-9f9a-f70127b399a2",
   "metadata": {},
   "outputs": [
    {
     "name": "stdin",
     "output_type": "stream",
     "text": [
      "Enter age :  25\n"
     ]
    },
    {
     "name": "stdout",
     "output_type": "stream",
     "text": [
      "Eligible for Voting! \n"
     ]
    }
   ],
   "source": [
    "age = int(input(\"Enter age : \"))\n",
    "if age >= 18:\n",
    "    print(\"Eligible for Voting! \")\n",
    "else:\n",
    "    print(\"Not Eligible for Voting! \")"
   ]
  },
  {
   "cell_type": "markdown",
   "id": "1116e641-4e9b-42f0-a3ae-1be80fdc8458",
   "metadata": {},
   "source": [
    "       3. Develop a program to find the maximum of two numbers using if-else statements.\n"
   ]
  },
  {
   "cell_type": "code",
   "execution_count": 16,
   "id": "8678e75e-89ed-4bff-9a99-e05741a196be",
   "metadata": {},
   "outputs": [
    {
     "name": "stdin",
     "output_type": "stream",
     "text": [
      "num1: 10\n",
      "num2: 50\n"
     ]
    },
    {
     "name": "stdout",
     "output_type": "stream",
     "text": [
      "50 is greater\n"
     ]
    }
   ],
   "source": [
    "num1 = int(input(\"num1:\"))\n",
    "num2 = int(input(\"num2:\"))\n",
    "\n",
    "# printing the maximum value\n",
    "if(num1 > num2):\n",
    "    print (num1, \"is greater\")\n",
    "elif(num1 < num2):\n",
    "    print(num2, \"is greater\")\n",
    "else: \n",
    "    print(\"both are equal\")"
   ]
  },
  {
   "cell_type": "markdown",
   "id": "786be31f-3eaf-4263-8810-71b6824bf447",
   "metadata": {},
   "source": [
    "     4. Write a Python script to classify a given year as a leap year or not.\n"
   ]
  },
  {
   "cell_type": "code",
   "execution_count": 31,
   "id": "0b682b18-a4ce-454d-8d9a-a7d78205b989",
   "metadata": {},
   "outputs": [
    {
     "name": "stdin",
     "output_type": "stream",
     "text": [
      "enter a year: 2015\n"
     ]
    },
    {
     "name": "stdout",
     "output_type": "stream",
     "text": [
      "2015 is not a leap year\n"
     ]
    }
   ],
   "source": [
    "# Python program to check if year is a leap year or not\n",
    "\n",
    "year = int(input(\"enter a year:\"))\n",
    "\n",
    "# To get year (integer input) from the user\n",
    "# year = int(input(\"Enter a year: \"))\n",
    "\n",
    "# divided by 100 means century year (ending with 00)\n",
    "# century year divided by 400 is leap year\n",
    "if (year % 400 == 0) and (year % 100 == 0):\n",
    "    print(\"{0} is a leap year\".format(year))\n",
    "\n",
    "# not divided by 100 means not a century year\n",
    "# year divided by 4 is a leap year\n",
    "elif (year % 4 ==0) and (year % 100 != 0):\n",
    "    print(\"{0} is a leap year\".format(year))\n",
    "# if not divided by both 400 (century year) and 4 (not century year)\n",
    "# year is not leap year\n",
    "else:\n",
    "    print(\"{0} is not a leap year\".format(year))"
   ]
  },
  {
   "cell_type": "markdown",
   "id": "9425137d-8063-46ce-8ffc-2187c860ee63",
   "metadata": {},
   "source": [
    "      5. Create a program that checks whether a character is a vowel or a consonant.\n"
   ]
  },
  {
   "cell_type": "code",
   "execution_count": 54,
   "id": "e9c2f716-3c0d-4985-862a-2f8ee01a7bd2",
   "metadata": {},
   "outputs": [
    {
     "name": "stdin",
     "output_type": "stream",
     "text": [
      "enter a character: a\n"
     ]
    },
    {
     "name": "stdout",
     "output_type": "stream",
     "text": [
      "The character 'a' is a vowel!\n"
     ]
    }
   ],
   "source": [
    "# Function to check whether the given character is a vowel or not\n",
    "character = input(\"enter a character:\")\n",
    "# Creating a string of vowels.\n",
    "vowels = \"aeiouAEIOU\"\n",
    "# Check if the character is a vowel or not.\n",
    "if character in vowels:\n",
    "     print(f\"The character '{character}' is a vowel!\")\n",
    "else:\n",
    "     print(f\"The character '{character}' is a consonant!\") "
   ]
  },
  {
   "cell_type": "markdown",
   "id": "8a619be2-e2cc-42ab-98bf-eb5dbdc58e5a",
   "metadata": {},
   "source": [
    "       6. Implement a program to determine whether a given number is even or odd"
   ]
  },
  {
   "cell_type": "code",
   "execution_count": 13,
   "id": "1dcbef4a-e933-40fc-a814-3bf5c73fbdb7",
   "metadata": {},
   "outputs": [
    {
     "name": "stdin",
     "output_type": "stream",
     "text": [
      "Enter any number to test whether it is odd or even: 65\n"
     ]
    },
    {
     "name": "stdout",
     "output_type": "stream",
     "text": [
      "The provided number is odd\n"
     ]
    }
   ],
   "source": [
    "num = int(input(\"Enter any number to test whether it is odd or even:\"))\n",
    "if (num % 2) == 0:\n",
    "    print (\"The number is even\")\n",
    "else:\n",
    "    print (\"The provided number is odd\")"
   ]
  },
  {
   "cell_type": "markdown",
   "id": "ab776bb0-1b95-4522-bf3c-944182f8fbbb",
   "metadata": {},
   "source": [
    "      7. Write a Python function to calculate the absolute value of a number without using the `abs()` function.\n"
   ]
  },
  {
   "cell_type": "code",
   "execution_count": 21,
   "id": "485914d6-7805-4337-b605-7db4d73911cf",
   "metadata": {},
   "outputs": [
    {
     "name": "stdin",
     "output_type": "stream",
     "text": [
      "Enter any number:  10\n"
     ]
    },
    {
     "name": "stdout",
     "output_type": "stream",
     "text": [
      "Here's the absolute value:  10.0\n"
     ]
    }
   ],
   "source": [
    "num = float(input(\"Enter any number: \"))\n",
    "if num < 0 :\n",
    "    print(\"Here's the absolute value: \", num*-1)\n",
    "elif num == 0 :\n",
    "    print(\"Here's the absolute value: 0\")\n",
    "elif num > 0 :\n",
    "    print(\"Here's the absolute value: \", num)"
   ]
  },
  {
   "cell_type": "markdown",
   "id": "f53cae1b-5803-467f-a9a5-7a79db0a835c",
   "metadata": {},
   "source": [
    "     8. Develop a program that determines the largest of three given numbers using if-else statements.\n"
   ]
  },
  {
   "cell_type": "code",
   "execution_count": 1,
   "id": "b053a864-839f-4272-b1be-a8c3fd678feb",
   "metadata": {},
   "outputs": [
    {
     "name": "stdin",
     "output_type": "stream",
     "text": [
      "enter first number 45\n",
      "enter second number 14\n",
      "enter three number 78\n"
     ]
    },
    {
     "name": "stdout",
     "output_type": "stream",
     "text": [
      "The largest number is 78\n"
     ]
    }
   ],
   "source": [
    "# Python program to find the largest number among the three input numbers\n",
    "\n",
    "# change the values of num1, num2 and num3\n",
    "# for a different result\n",
    "num1 = int(input(\"enter first number\"))\n",
    "num2 = int(input(\"enter second number\"))\n",
    "num3 = int(input(\"enter three number\"))\n",
    "\n",
    "if (num1 >= num2) and (num1 >= num3):\n",
    "    largest = num1\n",
    "elif (num2 >= num1) and (num2 >= num3):\n",
    "    largest = num2\n",
    "else:\n",
    "    largest = num3\n",
    "\n",
    "print(\"The largest number is\", largest)"
   ]
  },
  {
   "cell_type": "markdown",
   "id": "ad952f53-4786-434a-9aa3-fbc16e1bb6f0",
   "metadata": {},
   "source": [
    "      9. Create a program that checks if a given string is a palindrome.\n"
   ]
  },
  {
   "cell_type": "code",
   "execution_count": 53,
   "id": "d7ce7f18-8e97-46fc-b98b-c9b9089a8e27",
   "metadata": {},
   "outputs": [
    {
     "name": "stdin",
     "output_type": "stream",
     "text": [
      "Enter a string. noton\n"
     ]
    },
    {
     "name": "stdout",
     "output_type": "stream",
     "text": [
      "Yes, it is a palindrome.\n"
     ]
    }
   ],
   "source": [
    "\n",
    "def check_palin (str):\n",
    "    for i in range (0, int (len (str)/2)):\n",
    "                    if str [i] != str [len (str) -i-1]:\n",
    "                                   return False \n",
    "                    return True\n",
    "str_1 = input (\"Enter a string.\")\n",
    "ans = check_palin (str_1)\n",
    "if (ans):\n",
    "    print (\"Yes, it is a palindrome.\")\n",
    "else:\n",
    "    print (\"No, it is not a palindrome.\")"
   ]
  },
  {
   "cell_type": "markdown",
   "id": "76fb3077-043f-4907-a9c5-0433a598e8b6",
   "metadata": {},
   "source": [
    "      10. Write a Python program to calculate the grade based on a student's score.\n",
    "      "
   ]
  },
  {
   "cell_type": "code",
   "execution_count": 56,
   "id": "2a719c44-6d32-4d34-9ba6-0cd9e4cfc97d",
   "metadata": {},
   "outputs": [
    {
     "name": "stdout",
     "output_type": "stream",
     "text": [
      "Enter Marks Obtained in 5 Subjects: \n"
     ]
    },
    {
     "name": "stdin",
     "output_type": "stream",
     "text": [
      "enter subject 1: 58\n",
      "enter subject 2: 45\n",
      "enter subject 3: 78\n",
      "enter subject 4: 96\n",
      "enter subject 5: 52\n"
     ]
    },
    {
     "name": "stdout",
     "output_type": "stream",
     "text": [
      "Your Grade is B2\n"
     ]
    }
   ],
   "source": [
    "print(\"Enter Marks Obtained in 5 Subjects: \")\n",
    "marks1 = int(input(\"enter subject 1:\"))\n",
    "marks2 = int(input(\"enter subject 2:\"))\n",
    "marks3 = int(input(\"enter subject 3:\"))\n",
    "marks4 = int(input(\"enter subject 4:\"))\n",
    "marks5 = int(input(\"enter subject 5:\"))\n",
    "\n",
    "total = marks1+marks2+marks3+marks4+marks5\n",
    "avg = total/5\n",
    "if avg>=91 and avg<=100:\n",
    "    print(\"Your Grade is A1\")\n",
    "elif avg>=81 and avg<91:\n",
    "    print(\"Your Grade is A2\")\n",
    "elif avg>=71 and avg<81:\n",
    "    print(\"Your Grade is B1\")\n",
    "elif avg>=61 and avg<71:\n",
    "    print(\"Your Grade is B2\")\n",
    "elif avg>=51 and avg<61:\n",
    "    print(\"Your Grade is C1\")\n",
    "elif avg>=41 and avg<51:\n",
    "    print(\"Your Grade is C2\")\n",
    "elif avg>=31 and avg<=41:\n",
    "    print(\"Your Grade is D1\")\n",
    "elif avg>=21 and avg<=31:\n",
    "    print(\"Your Grade is D2\")\n",
    "elif avg>=11 and avg<=21:\n",
    "    print(\"Your Grade is E1\")\n",
    "elif avg>=0 and avg<=11:\n",
    "    print(\"Your Grade is E2\")\n",
    "else:\n",
    "    print(\"invalid input\")\n",
    "    \n",
    "\n"
   ]
  },
  {
   "cell_type": "markdown",
   "id": "0ea0d5f7-3476-4b4d-89a4-5e2415984b42",
   "metadata": {},
   "source": [
    "                                 Nested If-Else Statements:\n"
   ]
  },
  {
   "cell_type": "markdown",
   "id": "232d2eb0-512c-4c31-a4da-cf58b65c1115",
   "metadata": {},
   "source": [
    "      11. Write a program to find the largest among three numbers using nested if-else statements.\n"
   ]
  },
  {
   "cell_type": "code",
   "execution_count": 62,
   "id": "aa43d69c-91f3-4242-bc3c-ae4d68c84771",
   "metadata": {},
   "outputs": [
    {
     "name": "stdin",
     "output_type": "stream",
     "text": [
      "Enter first number: 45\n",
      "Enter second number: 12\n",
      "Enter third number: 23\n"
     ]
    },
    {
     "name": "stdout",
     "output_type": "stream",
     "text": [
      "Greatest is x to z: 45\n"
     ]
    }
   ],
   "source": [
    "x = int(input(\"Enter first number:\"))\n",
    "y = int(input(\"Enter second number:\"))\n",
    "z = int(input(\"Enter third number:\"))\n",
    "\n",
    "if x > y:\n",
    "    if x > z:\n",
    "        print(\"Greatest is x to z:\", x)\n",
    "    else:\n",
    "        print(\"Greatest is x to zz:\", z)\n",
    "else:\n",
    "    if y > z:\n",
    "        print(\"Greatest is y to z:\", y)\n",
    "    else:\n",
    "        print(\"Greatest isy y to zz:\", z)"
   ]
  },
  {
   "cell_type": "markdown",
   "id": "9cad3d5f-f57f-46b7-886e-b128779960c6",
   "metadata": {},
   "source": [
    "       12. Implement a program to determine if a triangle is equilateral, isosceles, or scalene.\n"
   ]
  },
  {
   "cell_type": "code",
   "execution_count": 65,
   "id": "f474d352-728c-4aa0-b7ad-b320922626a8",
   "metadata": {},
   "outputs": [
    {
     "name": "stdout",
     "output_type": "stream",
     "text": [
      "Input lengths of the triangle sides: \n"
     ]
    },
    {
     "name": "stdin",
     "output_type": "stream",
     "text": [
      "x:  45\n",
      "y:  45\n",
      "z:  78\n"
     ]
    },
    {
     "name": "stdout",
     "output_type": "stream",
     "text": [
      "isosceles triangle\n"
     ]
    }
   ],
   "source": [
    "print(\"Input lengths of the triangle sides: \")\n",
    "x = int(input(\"x: \"))\n",
    "y = int(input(\"y: \"))\n",
    "z = int(input(\"z: \"))\n",
    "\n",
    "if x == y == z:\n",
    "\tprint(\"Equilateral triangle\")\n",
    "elif x==y or y==z or z==x:\n",
    "\tprint(\"isosceles triangle\")\n",
    "else:\n",
    "\tprint(\"Scalene triangle\")"
   ]
  },
  {
   "cell_type": "markdown",
   "id": "ae2c577c-61fa-4a8f-9699-442096666f38",
   "metadata": {},
   "source": [
    "      13. Develop a program that checks if a year is a leap year and also if it is a century year.\n"
   ]
  },
  {
   "cell_type": "code",
   "execution_count": 67,
   "id": "3a5d457c-e651-434a-a255-b295ae1af11d",
   "metadata": {},
   "outputs": [
    {
     "name": "stdin",
     "output_type": "stream",
     "text": [
      "Enter year to be checked: 2012\n"
     ]
    },
    {
     "name": "stdout",
     "output_type": "stream",
     "text": [
      "The year is a leap year!\n"
     ]
    }
   ],
   "source": [
    "year=int(input(\"Enter year to be checked:\"))\n",
    "if(year%4==0 and year%100!=0 or year%400==0):\n",
    "    print(\"The year is a leap year!\")\n",
    "else:\n",
    "    print(\"The year isn't a leap year!\")"
   ]
  },
  {
   "cell_type": "markdown",
   "id": "142383b3-8a69-4e72-99e2-966ab37b01d1",
   "metadata": {},
   "source": [
    "      14. Write a Python script to determine if a number is positive, negative, or zero.\n"
   ]
  },
  {
   "cell_type": "code",
   "execution_count": 74,
   "id": "31fec956-32fa-4171-aa81-f65320b44a47",
   "metadata": {},
   "outputs": [
    {
     "name": "stdin",
     "output_type": "stream",
     "text": [
      "Input a number:  0\n"
     ]
    },
    {
     "name": "stdout",
     "output_type": "stream",
     "text": [
      "It is Zero! \n"
     ]
    }
   ],
   "source": [
    "n = float(input(\"Input a number: \"))\n",
    "if n >= 0:\n",
    "    if n == 0:\n",
    "        \n",
    "        print(\"It is Zero! \")\n",
    "    else:\n",
    "        print(\"Number is Positive number. \")\n",
    "else:\n",
    "    print(\"Number is Negative number.\")"
   ]
  },
  {
   "cell_type": "markdown",
   "id": "d62edbda-5a2a-4818-a603-29c041c3e25f",
   "metadata": {},
   "source": [
    "        15. Create a program to check if a person is a teenager (between 13 and 19 years old).\n"
   ]
  },
  {
   "cell_type": "code",
   "execution_count": 94,
   "id": "4f9fd779-6003-4bb0-81e9-db53d3f57a44",
   "metadata": {},
   "outputs": [
    {
     "name": "stdin",
     "output_type": "stream",
     "text": [
      "Enter your age 21\n"
     ]
    },
    {
     "name": "stdout",
     "output_type": "stream",
     "text": [
      "You are grown up.\n"
     ]
    }
   ],
   "source": [
    "age = int(input(\"Enter your age\"))\n",
    "if age <= 13:\n",
    "    print(\"Hey! kid\")\n",
    "elif age >= 13 and age <= 20:\n",
    "    print(\"So, you are enjoying your teenage.\")\n",
    "else:\n",
    "    print(\"You are grown up.\")"
   ]
  },
  {
   "cell_type": "markdown",
   "id": "ba3622a6-9ca9-47bd-95f1-380fb227515c",
   "metadata": {},
   "source": [
    "     16. Develop a program that determines the type of angle based on its measure (acute, obtuse, or right).\n"
   ]
  },
  {
   "cell_type": "code",
   "execution_count": 12,
   "id": "6bd95862-9c0a-43dc-be2a-103adccd301a",
   "metadata": {},
   "outputs": [
    {
     "name": "stdout",
     "output_type": "stream",
     "text": [
      "Acute Triangle: 2\n",
      "Right Triangle: 1\n",
      "Obtuse Triangle: 4\n"
     ]
    }
   ],
   "source": [
    "# Python3 program to count of acute, obtuse and right \n",
    "# triangles in an array \n",
    "\n",
    "# Find the number of acute, right, obtuse triangle \n",
    "# that can be formed from given array. \n",
    "def findTriangle(a, n) : \n",
    "\t\n",
    "\tb = [] \n",
    "\t# Finding the square of each element of array \n",
    "\tfor i in range(n) : \n",
    "\t\tb.append(a[i] * a[i]) \n",
    "\t\n",
    "\t# Sort the sides of array and their squares. \n",
    "\ta.sort() \n",
    "\tb.sort() \n",
    "\t\n",
    "\t# x for acute triangles \n",
    "\t# y for right triangles \n",
    "\t# z for obtuse triangles \n",
    "\tx, y, z = 0, 0, 0\n",
    "\t\n",
    "\tfor i in range(n) : \n",
    "\t\tp = i+1\n",
    "\t\tq = i+1\n",
    "\t\tfor j in range(i + 1, n) : \n",
    "\t\t\t# Finding the farthest point p where \n",
    "\t\t\t# a^2 + b^2 >= c^2. \n",
    "\t\t\twhile (p<n-1 and b[i]+b[j]>=b[p+1]) : \n",
    "\t\t\t\tp += 1\n",
    "\t\t\tq = max(q, p) \n",
    "\t\t\t# Finding the farthest point q where \n",
    "\t\t\t# a + b > c. \n",
    "\t\t\twhile (q<n-1 and a[i]+a[j]>a[q+1]) : \n",
    "\t\t\t\tq += 1\n",
    "\t\t\t\t\n",
    "\t\t\t# If point p make right triangle. \n",
    "\t\t\tif (b[i]+b[j]==b[p]) : \n",
    "\t\t\t\t# All triangle between j and p are acute \n",
    "\t\t\t\t# triangles. So add p - j - 1 in x. \n",
    "\t\t\t\tx += max(p - j - 1, 0) \n",
    "\t\t\t\t# Increment y by 1. \n",
    "\t\t\t\ty += 1\n",
    "\t\t\t\t# All triangle between q and p are acute \n",
    "\t\t\t\t# triangles. So add q - p in z. \n",
    "\t\t\t\tz += q - p \n",
    "\t\t\t# If no right triangle \n",
    "\t\t\telse : \n",
    "\t\t\t\t# All triangle between j and p are acute \n",
    "\t\t\t\t# triangles. So add p - j in x. \n",
    "\t\t\t\tx += max(p - j, 0) \n",
    "\t\t\t\t# All triangle between q and p are acute \n",
    "\t\t\t\t# triangles. So add q - p in z. \n",
    "\t\t\t\tz += q - p \n",
    "\t\n",
    "\tprint(\"Acute Triangle:\",x ) \n",
    "\tprint(\"Right Triangle:\", y) \n",
    "\tprint(\"Obtuse Triangle:\", z) \n",
    "\n",
    "\n",
    "# Driver Code \n",
    "if __name__ == \"__main__\" : \n",
    "\n",
    "\tarr = [2, 3, 9, 10, 12, 15] \n",
    "\tn = len(arr) \n",
    "\tfindTriangle(arr, n) "
   ]
  },
  {
   "cell_type": "markdown",
   "id": "d6014f0a-f5e8-420f-a871-62e8477e498a",
   "metadata": {},
   "source": [
    "      17. Write a Python program to calculate the roots of a quadratic equation.\n"
   ]
  },
  {
   "cell_type": "code",
   "execution_count": 99,
   "id": "482f47d1-2bf7-4c6a-9162-dde3ec01f06e",
   "metadata": {},
   "outputs": [
    {
     "name": "stdin",
     "output_type": "stream",
     "text": [
      "enter a value: 8\n",
      "enter a value: 4\n",
      "enter a value: 5\n"
     ]
    },
    {
     "name": "stdout",
     "output_type": "stream",
     "text": [
      "The solution are (-0.25-0.75j) and (-0.25+0.75j)\n"
     ]
    }
   ],
   "source": [
    "#Solve the quadratic equation ax**2 + bx + c = 0\n",
    "\n",
    "# import complex math module\n",
    "import cmath\n",
    "\n",
    "a = int(input(\"enter a value:\"))\n",
    "b = int(input(\"enter a value:\"))\n",
    "c = int(input(\"enter a value:\"))\n",
    "\n",
    "# calculate the discriminant\n",
    "d = (b**2) - (4*a*c)\n",
    "\n",
    "# find two solutions\n",
    "sol1 = (-b-cmath.sqrt(d))/(2*a)\n",
    "sol2 = (-b+cmath.sqrt(d))/(2*a)\n",
    "\n",
    "print('The solution are {0} and {1}'.format(sol1,sol2))"
   ]
  },
  {
   "cell_type": "markdown",
   "id": "a12a8c44-9e22-4a19-b1f0-7acd4bc8cb70",
   "metadata": {},
   "source": [
    "    18. Implement a program to determine the day of the week based on a user-provided number (1 for Monday, 2 for Tuesday, etc.).\n",
    "\n"
   ]
  },
  {
   "cell_type": "code",
   "execution_count": 5,
   "id": "4ad784ba-ca7f-49fe-8b29-439d02c96c6b",
   "metadata": {},
   "outputs": [
    {
     "name": "stdin",
     "output_type": "stream",
     "text": [
      "Enter a number from 1 to 7:  6\n"
     ]
    },
    {
     "name": "stdout",
     "output_type": "stream",
     "text": [
      "6 is Friday\n"
     ]
    }
   ],
   "source": [
    "day = int(input(\"Enter a number from 1 to 7: \"))\n",
    "if day == 1:\n",
    "    print(day, \"is Sunday\")\n",
    "elif day == 2:\n",
    "      print(day, \"is Monday\")\n",
    "elif day == 3:\n",
    "      print(day, \"is Tuesday\")\n",
    "elif day == 4:\n",
    "      print(day, \"is Wednesday\")\n",
    "elif day == 5:\n",
    "      print(day, \"is Thursday\")\n",
    "elif day == 6:\n",
    "      print(day, \"is Friday\")\n",
    "elif day == 7:\n",
    "      print(day, \"is saturday\")\n",
    "else:\n",
    "    print(day, \"is invalid \")"
   ]
  },
  {
   "cell_type": "markdown",
   "id": "b05ec1c0-aadd-4d26-9e04-776299514a4b",
   "metadata": {},
   "source": [
    "     19. Create a program that determines if a year is a leap year and also if it is evenly divisible by 400.\n"
   ]
  },
  {
   "cell_type": "code",
   "execution_count": 32,
   "id": "5fe356aa-d590-4622-80c0-e19c11c74db4",
   "metadata": {},
   "outputs": [
    {
     "name": "stdin",
     "output_type": "stream",
     "text": [
      "Enter the number:  2012\n"
     ]
    },
    {
     "name": "stdout",
     "output_type": "stream",
     "text": [
      "Given Year is a leap Year\n"
     ]
    }
   ],
   "source": [
    "# Default function to implement conditions to check leap year.\n",
    "def CheckLeap(Year):\n",
    "# Checking if the given year is leap year.\n",
    "  if((Year % 400 == 0)or \n",
    "   (Year % 100 != 0) and\n",
    "   (Year % 4 == 0)):\n",
    "    print(\"Given Year is a leap Year\");\n",
    "# Else it is not a leap year.\n",
    "  else:  \n",
    "    print (\"Given Year is not a leap Year\")  \n",
    "# Taking an input year from user  \n",
    "Year = int(input(\"Enter the number: \"))  \n",
    "# Printing result  \n",
    "CheckLeap(Year)"
   ]
  },
  {
   "cell_type": "markdown",
   "id": "eb0ef22c-b2a7-4f20-bddf-648525de0793",
   "metadata": {},
   "source": [
    "      20. Develop a program that checks if a given number is prime or not using nested if-else statements.\n",
    "\n"
   ]
  },
  {
   "cell_type": "code",
   "execution_count": 65,
   "id": "7a26190b-6573-4e54-a4f7-69ae5f45b2a9",
   "metadata": {},
   "outputs": [
    {
     "name": "stdin",
     "output_type": "stream",
     "text": [
      "enter a prime number: 13\n"
     ]
    },
    {
     "name": "stdout",
     "output_type": "stream",
     "text": [
      "13  is a prime number! \n"
     ]
    }
   ],
   "source": [
    "from math import sqrt\n",
    "n = int(input(\"enter a prime number:\" ))\n",
    "flag = 0\n",
    "if(n > 1):\n",
    "    for k in range(2,int(sqrt(n)) + 1):\n",
    "        if (n % k == 0):\n",
    "            flag = 1\n",
    "        break\n",
    "    if (flag == 0):\n",
    "        print(n,\" is a prime number! \")\n",
    "    else:\n",
    "        print(n, \" is not a prime number! \")\n",
    "else:\n",
    "    print(n, \" is not a prime number! \" )"
   ]
  },
  {
   "cell_type": "markdown",
   "id": "b1310cff-d303-4db4-bad5-d45a7d098bd6",
   "metadata": {},
   "source": [
    "                                                   Elif Statements:\n",
    "\n"
   ]
  },
  {
   "cell_type": "markdown",
   "id": "34206b86-bdfd-4efa-a1fe-040a378f3e47",
   "metadata": {},
   "source": [
    "     21. Write a Python program to assign grades based on different ranges of scores using elif statements.\n"
   ]
  },
  {
   "cell_type": "code",
   "execution_count": 83,
   "id": "ac83c012-82a4-4fbd-880b-93fb2fd1beb5",
   "metadata": {},
   "outputs": [
    {
     "name": "stdin",
     "output_type": "stream",
     "text": [
      "Enter your mark  80\n"
     ]
    },
    {
     "name": "stdout",
     "output_type": "stream",
     "text": [
      "You got A grade\n"
     ]
    }
   ],
   "source": [
    "marks = int(input(\"Enter your mark \"))\n",
    "if(marks>=80):\n",
    "    print(\"You got A grade\")\n",
    "elif(marks>=60):\n",
    "    print(\"You got B grade\")\n",
    "elif(marks>=40):\n",
    "    print(\"You got C grade\")\n",
    "else:\n",
    "    print(\"Failed in this Exam \")"
   ]
  },
  {
   "cell_type": "markdown",
   "id": "5e380d3a-d697-436c-abfb-2e26620f7e2d",
   "metadata": {},
   "source": [
    "    22. Implement a program to determine the type of a triangle based on its angles.\n"
   ]
  },
  {
   "cell_type": "code",
   "execution_count": 110,
   "id": "00a173fb-3c26-4ed2-ac1b-fdb4048732ec",
   "metadata": {},
   "outputs": [
    {
     "name": "stdin",
     "output_type": "stream",
     "text": [
      "enter the number of 1 :  60\n",
      "enter the number of 2 :  60\n",
      "enter the number of 3 :  60\n"
     ]
    },
    {
     "name": "stdout",
     "output_type": "stream",
     "text": [
      "acute angle\n"
     ]
    }
   ],
   "source": [
    "A = int(input(\"enter the number of 1 : \"))\n",
    "B = int(input(\"enter the number of 2 : \"))\n",
    "C = int(input(\"enter the number of 3 : \"))\n",
    "\n",
    "if A+B+C != 180 or A<0 or A>180 or B<0 or B>180 or C<0 or C>180:\n",
    "    print(\"NOT TRIANGLE\")\n",
    "elif A<90 and B<90 and C<90:\n",
    "    print(\"acute angle\")\n",
    "elif (A>90 and A<180) or (B<90 and B<180) or (C<90 and C<180):\n",
    "    print(\"obtus angle\")\n",
    "        \n",
    "elif A==90 or B==90 or C==90:\n",
    "    print(\"carpenter's triangle\")\n",
    "else:\n",
    "    print(\"wut?\")"
   ]
  },
  {
   "cell_type": "markdown",
   "id": "76fc3a5c-4876-42f0-9fff-8641ce607525",
   "metadata": {},
   "source": [
    "    23. Develop a program to categorize a given person's BMI into underweight, normal, overweight, or obese using elif statement.\n"
   ]
  },
  {
   "cell_type": "code",
   "execution_count": 12,
   "id": "5a897684-9260-42ff-bbab-e98a4fee5380",
   "metadata": {},
   "outputs": [
    {
     "name": "stdin",
     "output_type": "stream",
     "text": [
      " 2000\n",
      " 10\n"
     ]
    },
    {
     "name": "stdout",
     "output_type": "stream",
     "text": [
      "Normal\n"
     ]
    }
   ],
   "source": [
    "#Here is the way\n",
    "#your code goes here\n",
    "weight=float(input())\n",
    "height=float(input())\n",
    "\n",
    "bmi= weight/(height)**2\n",
    "\n",
    "if bmi<18.5:\n",
    "    print(\"Underweight\")\n",
    "elif bmi>=18.5 and bmi<25:\n",
    "    print(\"Normal\")\n",
    "elif bmi>=25 and bmi<30:\n",
    "    print(\"Overweight\")\n",
    "else:\n",
    "    print(\"Obesity\")"
   ]
  },
  {
   "cell_type": "markdown",
   "id": "397ca0f7-1358-4be0-a70c-4ebc978211e7",
   "metadata": {},
   "source": [
    "     24. Create a program that determines whether a given number is positive, negative, or zero using elif statements.\n",
    "\n"
   ]
  },
  {
   "cell_type": "code",
   "execution_count": 3,
   "id": "eee183b5-ffda-4b02-8447-78900df648ac",
   "metadata": {},
   "outputs": [
    {
     "name": "stdin",
     "output_type": "stream",
     "text": [
      "Enter a number as input value:  25\n"
     ]
    },
    {
     "name": "stdout",
     "output_type": "stream",
     "text": [
      "Number given by you is Positive\n"
     ]
    }
   ],
   "source": [
    "# Default function to run if else condition  \n",
    "def NumberCheck(x):   \n",
    "    # Checking if the number is positive  \n",
    "    if x > 0:   \n",
    "        print(\"Number given by you is Positive\")   \n",
    "    # Checking if the number is negative   \n",
    "    elif x < 0:   \n",
    "        print(\"Number given by you is Negative\")   \n",
    "    # Else the number is zero  \n",
    "    else:   \n",
    "        print(\"Number given by you is zero\")  \n",
    "# Taking number from user  \n",
    "x = float(input(\"Enter a number as input value: \"))  \n",
    "# Printing result  \n",
    "NumberCheck(x)  "
   ]
  },
  {
   "cell_type": "markdown",
   "id": "619cd4f5-6557-400d-ba89-e043fe3ad6ce",
   "metadata": {},
   "source": [
    "     25. Write a Python script to determine the type of a character (uppercase, lowercase, or special) using elif statements.\n",
    "\n"
   ]
  },
  {
   "cell_type": "code",
   "execution_count": 54,
   "id": "f03b72d7-1e9b-4bf3-8e3a-12fac1e494c5",
   "metadata": {},
   "outputs": [
    {
     "name": "stdin",
     "output_type": "stream",
     "text": [
      "Enter a character:  {:lkjhbgvcx\n"
     ]
    },
    {
     "name": "stdout",
     "output_type": "stream",
     "text": [
      "{:lkjhbgvcx is a special case letter.\n"
     ]
    }
   ],
   "source": [
    "character = input(\"Enter a character: \")\n",
    "import re\n",
    "if re. match(r'[a-z]+',character):\n",
    "    print(character, \"is a lower case letter.\")\n",
    "elif re. match(r'[A-Z]',character):\n",
    "    print(character, \"is an upper case letter.\")\n",
    "elif re. match(r'[~!@#$%^&*(){}:;?><,.//*=+-_]',character):\n",
    "    print(character, \"is a special case letter.\")\n",
    "else:\n",
    "    print(character, \"is a non alphanumeric letter,\")"
   ]
  },
  {
   "cell_type": "markdown",
   "id": "7fb75fb1-df4e-4497-a302-79bd84f926df",
   "metadata": {},
   "source": [
    "     26. Implement a program to calculate the discounted price based on different purchase amounts using elif statements.\n",
    "\n"
   ]
  },
  {
   "cell_type": "code",
   "execution_count": 16,
   "id": "4ec538f7-1753-466a-bc47-03859a1b88a3",
   "metadata": {},
   "outputs": [
    {
     "name": "stdin",
     "output_type": "stream",
     "text": [
      "Enter purchase amount  50000\n"
     ]
    },
    {
     "name": "stdout",
     "output_type": "stream",
     "text": [
      "Discount Amount = 8000.00\n",
      "Net Bill Amount = 42000.00\n"
     ]
    }
   ],
   "source": [
    "p=int(input('Enter purchase amount '))\n",
    "\n",
    "if p<=5000:\n",
    "    dis=0\n",
    "elif p>5000 and p<=10000:\n",
    "    dis=(p-5000)*(10/100.0)\n",
    "elif p>10000 and p<=20000:\n",
    "    dis=(p-10000)*(20/100.0)\n",
    "elif p>20000 and p<=30000:\n",
    "    dis=(p-20000)*(30/100.0)\n",
    "else:\n",
    "    dis=(p-30000)*(40/100.0)\n",
    "\n",
    "print('Discount Amount = {:.2f}'.format(dis))\n",
    "print('Net Bill Amount = {:.2f}'.format(p-dis))"
   ]
  },
  {
   "cell_type": "markdown",
   "id": "5318e427-8a4a-48e8-9e1c-5123620d0f63",
   "metadata": {},
   "source": [
    "       27. Develop a program to calculate the electricity bill based on different consumption slabs using elif statements."
   ]
  },
  {
   "cell_type": "code",
   "execution_count": 30,
   "id": "953e39ef-2ac9-4836-a3af-e93ec2833732",
   "metadata": {},
   "outputs": [
    {
     "name": "stdin",
     "output_type": "stream",
     "text": [
      "please enter the number of units you consumed in a month 250\n"
     ]
    },
    {
     "name": "stdout",
     "output_type": "stream",
     "text": [
      "\n",
      "Electicity bill=675.00\n"
     ]
    }
   ],
   "source": [
    "units=int(input(\"please enter the number of units you consumed in a month\"))\n",
    "if(units<=100):\n",
    "    payAmount=units*1.5\n",
    "    fixedcharge=25.00\n",
    "elif(units<=200):\n",
    "    payAmount=(100*1.5)+(units-100)*2.5\n",
    "    fixedcharge=50.00\n",
    "elif(units<=300):\n",
    "    payAmount=(100*1.5)+(200-100)*2.5+(units-200)*4\n",
    "    fixedcharge=75.00\n",
    "elif(units<=350):\n",
    "    payAmount=(100*1.5)+(200-100)*2.5+(300-200)*4+(units-300)*5\n",
    "    fixedcharge=100.00\n",
    "else:\n",
    "    payAmount=0\n",
    "    fixedcharge=1500.00\n",
    "Total=payAmount+fixedcharge;\n",
    "print(\"\\nElecticity bill=%.2f\" %Total)"
   ]
  },
  {
   "cell_type": "markdown",
   "id": "48ded62f-31b2-48ff-a1b1-96f6a3c483ac",
   "metadata": {},
   "source": [
    "       28. Create a program to determine the type of quadrilateral based on its angles and sides using elif statements."
   ]
  },
  {
   "cell_type": "code",
   "execution_count": 27,
   "id": "7a0c6a3b-0b8e-4076-8006-41872b0c3959",
   "metadata": {},
   "outputs": [
    {
     "name": "stdout",
     "output_type": "stream",
     "text": [
      "60.0 , 80.0 , 100.0 , 120.0\n"
     ]
    }
   ],
   "source": [
    "# Python implementation \n",
    "# of the approach\n",
    "d =20\n",
    "a = 0.0\n",
    " \n",
    "# according to formula \n",
    "# derived above\n",
    "a=(360 - (6 * d)) / 4\n",
    " \n",
    "# print all the angles\n",
    "print(a,\",\", a + d, \",\", a + 2 * d,\n",
    "        \",\", a + 3 * d, sep = ' ')"
   ]
  },
  {
   "cell_type": "markdown",
   "id": "072f91f0-e896-4347-97b4-47895571d755",
   "metadata": {},
   "source": [
    "    29. Write a Python script to determine the season based on a user-provided month using elif statements."
   ]
  },
  {
   "cell_type": "code",
   "execution_count": 76,
   "id": "9cbf9c87-54d1-4d2a-9bc9-e7341e867bac",
   "metadata": {},
   "outputs": [
    {
     "name": "stdin",
     "output_type": "stream",
     "text": [
      "Enter a month:  3\n",
      "Enter a day:  12\n"
     ]
    },
    {
     "name": "stdout",
     "output_type": "stream",
     "text": [
      "Season is  Winter\n"
     ]
    }
   ],
   "source": [
    "month = int(input(\"Enter a month: \"))\n",
    "day = int(input(\"Enter a day: \"))\n",
    "\n",
    "season = \"\"\n",
    "\n",
    "if month == 1 or month == 2 or month == 3:\n",
    "    season = \"Winter\"\n",
    "\n",
    "elif month == 4 or month == 5 or month == 6:\n",
    "    season = \"Spring\"\n",
    "\n",
    "elif month == 7 or month == 8 or month == 9:\n",
    "    season = \"Summer\"\n",
    "\n",
    "elif month == 10 or month == 11 or month == 12:\n",
    "    season = \"Fall\"\n",
    "\n",
    "if month % 3 == 0 and day >= 21:\n",
    "    if season == \"Winter\":\n",
    "        season = \"Spring\"\n",
    "    elif season == \"Spring\":\n",
    "        season = \"Summer\"\n",
    "    elif season == \"Summer\":\n",
    "        season = \"Fall\"\n",
    "    else:\n",
    "        season = \"Winter\"\n",
    "\n",
    "print(\"Season is \", season)"
   ]
  },
  {
   "cell_type": "markdown",
   "id": "623869e2-2761-4a79-adbd-4eae66e86bf5",
   "metadata": {},
   "source": [
    "    30. Implement a program to determine the type of a year (leap or common) and month (30 or 31 days) using elif statements.\n",
    "\n"
   ]
  },
  {
   "cell_type": "code",
   "execution_count": 83,
   "id": "3e50aa0b-7c1f-4f1f-8911-3a5105f9ad22",
   "metadata": {},
   "outputs": [
    {
     "name": "stdin",
     "output_type": "stream",
     "text": [
      "enter the month: 2\n",
      "enter the year: 2024\n"
     ]
    },
    {
     "name": "stdout",
     "output_type": "stream",
     "text": [
      "Number of days is 29\n"
     ]
    }
   ],
   "source": [
    "month = int(input(\"enter the month:\"))\n",
    "year=int(input(\"enter the year:\"))\n",
    "    \n",
    "if((month==2) and ((year%4==0)  or ((year%100==0) and (year%400==0)))) :\n",
    "    print(\"Number of days is 29\")\n",
    "\n",
    "elif(month==2) :\n",
    "    print(\"Number of days is 28\")\n",
    "\n",
    "elif(month==1 or month==3 or month==5 or month==7 or month==8 or month==10 or month==12) :\n",
    "    print(\"Number of days is 31\")\n",
    "\n",
    "else :\n",
    "    print(\"Number of days is 30\")"
   ]
  },
  {
   "cell_type": "markdown",
   "id": "fd54b312-0de8-4345-bf46-fc4f184f7959",
   "metadata": {},
   "source": [
    "                                                        Basic Level:\n"
   ]
  },
  {
   "cell_type": "markdown",
   "id": "f4e07d4e-19a1-43b2-a317-56f22755b37c",
   "metadata": {},
   "source": [
    "     1. Write a Python program that checks if a given number is positive, negative, or zero.\n"
   ]
  },
  {
   "cell_type": "code",
   "execution_count": 15,
   "id": "bc895e39-98af-4fd0-84f7-cec502651d90",
   "metadata": {},
   "outputs": [
    {
     "name": "stdin",
     "output_type": "stream",
     "text": [
      "Input a number: 2.0\n"
     ]
    },
    {
     "name": "stdout",
     "output_type": "stream",
     "text": [
      "Number is Positive.\n"
     ]
    }
   ],
   "source": [
    "n = float(input(\"Input a number:\"))\n",
    "\n",
    "\n",
    "if n > 0:\n",
    "    print(\"Number is Positive.\")\n",
    "elif n == 0:\n",
    "        print(\"It is Zero!\")\n",
    "else: \n",
    "    print(\"Number is Negative.\")"
   ]
  },
  {
   "cell_type": "markdown",
   "id": "76b6a39d-ca86-41d0-96f1-920612225573",
   "metadata": {},
   "source": [
    "    2. Create a program to determine if a person is eligible to vote based on their age.\n"
   ]
  },
  {
   "cell_type": "code",
   "execution_count": 17,
   "id": "3a28e308-f3e5-4b29-89dc-b04c13e0af55",
   "metadata": {},
   "outputs": [
    {
     "name": "stdin",
     "output_type": "stream",
     "text": [
      "Enter age :  20\n"
     ]
    },
    {
     "name": "stdout",
     "output_type": "stream",
     "text": [
      "Eligible for Voting! \n"
     ]
    }
   ],
   "source": [
    "age = int(input(\"Enter age : \"))\n",
    "if age >= 18:\n",
    "    print(\"Eligible for Voting! \")\n",
    "else:\n",
    "    print(\"Not Eligible for Voting! \")"
   ]
  },
  {
   "cell_type": "markdown",
   "id": "518df41d-e33b-4706-b043-fc596cc7ebff",
   "metadata": {},
   "source": [
    "      3. Write a program to find the maximum of two given numbers using conditional statements"
   ]
  },
  {
   "cell_type": "code",
   "execution_count": 22,
   "id": "9a898d4e-2a18-4b5e-823d-9e10e98ec728",
   "metadata": {},
   "outputs": [
    {
     "name": "stdin",
     "output_type": "stream",
     "text": [
      "Enter the first number:  65\n",
      "Enter the second number:  25\n"
     ]
    },
    {
     "name": "stdout",
     "output_type": "stream",
     "text": [
      "65 is greater than num1:\n"
     ]
    }
   ],
   "source": [
    "# Python program to return maximum of two numbers\n",
    "\n",
    "# Getting input from user\n",
    "num1 = int(input(\"Enter the first number: \"))\n",
    "num2 = int(input(\"Enter the second number: \"))\n",
    "\n",
    "# printing the maximum value\n",
    "if(num1 > num2):\n",
    "    print(num1, \"is greater than num1:\")\n",
    "elif(num1 < num2):\n",
    "    print(num2, \"is greater than num2:\")\n",
    "else:\n",
    "    print(\"Both are equal\")"
   ]
  },
  {
   "cell_type": "markdown",
   "id": "9fe82d03-d04e-4067-80a9-9a2b819d709d",
   "metadata": {},
   "source": [
    "     4. Develop a program that calculates the grade of a student based on their exam score.\n"
   ]
  },
  {
   "cell_type": "code",
   "execution_count": 9,
   "id": "7ed2cde6-dbd7-42f6-9e24-0bbb3195ea96",
   "metadata": {},
   "outputs": [
    {
     "name": "stdin",
     "output_type": "stream",
     "text": [
      "Enter marks of the first subject:  75\n",
      "Enter marks of the second subject:  45\n",
      "Enter marks of the third subject:  85\n",
      "Enter marks of the fourth subject:  57\n",
      "Enter marks of the fifth subject:  95\n"
     ]
    },
    {
     "name": "stdout",
     "output_type": "stream",
     "text": [
      "Grade: D\n"
     ]
    }
   ],
   "source": [
    "sub1=int(input(\"Enter marks of the first subject: \"))\n",
    "sub2=int(input(\"Enter marks of the second subject: \"))\n",
    "sub3=int(input(\"Enter marks of the third subject: \"))\n",
    "sub4=int(input(\"Enter marks of the fourth subject: \"))\n",
    "sub5=int(input(\"Enter marks of the fifth subject: \"))\n",
    "avg=(sub1+sub2+sub3+sub4+sub4)/5\n",
    "if(avg>=90):\n",
    "    print(\"Grade: A\")\n",
    "elif(avg>=80 and avg<90):\n",
    "    print(\"Grade: B\")\n",
    "elif(avg>=70 and avg<80):\n",
    "    print(\"Grade: C\")\n",
    "elif(avg>=60 and avg<70):\n",
    "    print(\"Grade: D\")\n",
    "else:\n",
    "    print(\"Grade: F\")"
   ]
  },
  {
   "cell_type": "markdown",
   "id": "087d25d7-e902-47d2-be58-f4126e5e525f",
   "metadata": {},
   "source": [
    "     5. Create a program that checks if a year is a leap year or not.\n"
   ]
  },
  {
   "cell_type": "code",
   "execution_count": 10,
   "id": "2746ada6-6496-46f0-9ad5-a0eca54a73c6",
   "metadata": {},
   "outputs": [
    {
     "name": "stdin",
     "output_type": "stream",
     "text": [
      "Enter year to be checked: 2022\n"
     ]
    },
    {
     "name": "stdout",
     "output_type": "stream",
     "text": [
      "The year isn't a leap year!\n"
     ]
    }
   ],
   "source": [
    "year=int(input(\"Enter year to be checked:\"))\n",
    "if(year%4==0 and year%100!= 0 or year%400==0):\n",
    "    print(\"The year is a leap year!\")\n",
    "else:\n",
    "    print(\"The year isn't a leap year!\")"
   ]
  },
  {
   "cell_type": "markdown",
   "id": "98280148-9640-4043-9fe8-a4ae0b570b99",
   "metadata": {},
   "source": [
    "      6. Write a program to classify a triangle based on its sides' lengths.\n"
   ]
  },
  {
   "cell_type": "code",
   "execution_count": 19,
   "id": "f5d87d0d-dcdf-410a-a13e-f059d68044ef",
   "metadata": {},
   "outputs": [
    {
     "name": "stdout",
     "output_type": "stream",
     "text": [
      "Input lengths of the triangle sides: \n"
     ]
    },
    {
     "name": "stdin",
     "output_type": "stream",
     "text": [
      "x:  5\n",
      "y:  5\n",
      "z:  5\n"
     ]
    },
    {
     "name": "stdout",
     "output_type": "stream",
     "text": [
      "Equilateral triangle\n"
     ]
    }
   ],
   "source": [
    "print(\"Input lengths of the triangle sides: \")\n",
    "x = int(input(\"x: \"))\n",
    "y = int(input(\"y: \"))\n",
    "z = int(input(\"z: \"))\n",
    "\n",
    "if x == y == z:\n",
    "\tprint(\"Equilateral triangle\")\n",
    "elif x==y or y==z or z==x:\n",
    "\tprint(\"isosceles triangle\")\n",
    "else:\n",
    "\tprint(\"Scalene triangle\")"
   ]
  },
  {
   "cell_type": "markdown",
   "id": "96904cca-460e-471a-8753-a0640938ddec",
   "metadata": {},
   "source": [
    "     7. Build a program that determines the largest of three given numbers.\n"
   ]
  },
  {
   "cell_type": "code",
   "execution_count": 5,
   "id": "da5e6410-2008-4720-a136-483c0c6a5218",
   "metadata": {},
   "outputs": [
    {
     "name": "stdin",
     "output_type": "stream",
     "text": [
      "Enter first number:  10\n",
      "Enter second number:  1.58\n",
      "Enter third number:  25.56\n"
     ]
    },
    {
     "name": "stdout",
     "output_type": "stream",
     "text": [
      "The largest number is 25.56\n"
     ]
    }
   ],
   "source": [
    "# Python program to find the largest number among the three input numbers\n",
    "\n",
    "# uncomment following lines to take three numbers from user\n",
    "num1 = float(input(\"Enter first number: \"))\n",
    "num2 = float(input(\"Enter second number: \"))\n",
    "num3 = float(input(\"Enter third number: \"))\n",
    "\n",
    "if (num1 >= num2) and (num1 >= num3):\n",
    "    largest = num1\n",
    "elif (num2 >= num1) and (num2 >= num3):\n",
    "    largest = num2\n",
    "else:\n",
    "    largest = num3\n",
    "\n",
    "print(\"The largest number is\", largest)"
   ]
  },
  {
   "cell_type": "markdown",
   "id": "6b2ecaad-def0-4782-a0c0-250f845adeff",
   "metadata": {},
   "source": [
    "             8. Develop a program that checks whether a character is a vowel or a consonant.\n"
   ]
  },
  {
   "cell_type": "code",
   "execution_count": null,
   "id": "0a09fc72-02a5-4d0f-af04-136054479335",
   "metadata": {},
   "outputs": [
    {
     "name": "stdin",
     "output_type": "stream",
     "text": [
      "Enter a character:  bhavesh\n"
     ]
    },
    {
     "name": "stdout",
     "output_type": "stream",
     "text": [
      "The character is a consonant!\n"
     ]
    }
   ],
   "source": [
    "# Python program to check whether the given character  \n",
    "# is a vowel or consonant  \n",
    "  \n",
    "# Get an input character from the user  \n",
    "character = input(\"Enter a character: \")  \n",
    "  \n",
    "# Creating a list of vowels  \n",
    "vowels = ['a', 'e', 'i', 'o', 'u', 'A', 'E', 'I', 'O', 'U']  \n",
    "  \n",
    "# Check if the character is a vowel or not  \n",
    "if character in vowels:  \n",
    "    print(f\"The character is a vowel!\")  \n",
    "else:  \n",
    "    print(f\"The character is a consonant!\")  "
   ]
  },
  {
   "cell_type": "markdown",
   "id": "f15c2dbd-a878-4a0d-9806-334caf0310f3",
   "metadata": {},
   "source": [
    "                 9. Create a program to calculate the total cost of a shopping cart based on discounts.\n"
   ]
  },
  {
   "cell_type": "code",
   "execution_count": 39,
   "id": "5d06beb5-1b77-42f0-ab24-70105ffc1cc9",
   "metadata": {},
   "outputs": [
    {
     "name": "stdin",
     "output_type": "stream",
     "text": [
      "How many drinks do you want? 500\n"
     ]
    },
    {
     "name": "stdout",
     "output_type": "stream",
     "text": [
      "That will be a total of: 7725.0 rupees\n"
     ]
    }
   ],
   "source": [
    "drinks = input(\"How many drinks do you want?\")\n",
    "drinks = int(drinks)\n",
    "\n",
    "total = 0\n",
    "\n",
    "single = 1000\n",
    "six = 100\n",
    "\n",
    "sixPacks = drinks // 6\n",
    "singles = drinks % 6\n",
    "# single * 6 = six\n",
    "\n",
    "total += six * sixPacks\n",
    "total += single * singles\n",
    "\n",
    "if total > 20:\n",
    "    total *= 0.75\n",
    "\n",
    "print( \"That will be a total of: {} rupees\".format(round(total, 2)))"
   ]
  },
  {
   "cell_type": "markdown",
   "id": "1fa180c7-0004-4231-9373-944dc7564d75",
   "metadata": {},
   "source": [
    "   10. Write a program that checks if a given number is even or odd.\n"
   ]
  },
  {
   "cell_type": "code",
   "execution_count": 44,
   "id": "7e869177-12fb-45c8-a0e8-cefb454aae3e",
   "metadata": {},
   "outputs": [
    {
     "name": "stdin",
     "output_type": "stream",
     "text": [
      "Enter any number to test whether it is odd or even:  55\n"
     ]
    },
    {
     "name": "stdout",
     "output_type": "stream",
     "text": [
      "The provided number is odd\n"
     ]
    }
   ],
   "source": [
    "num = int (input (\"Enter any number to test whether it is odd or even: \"))\n",
    "if (num % 2) == 0:\n",
    "    print (\"The number is even\")\n",
    "else:\n",
    "    print (\"The provided number is odd\")"
   ]
  },
  {
   "cell_type": "markdown",
   "id": "c66c1058-7d6a-47b8-b2ae-0d4ea15ed724",
   "metadata": {},
   "source": [
    "                   Intermediate Level:\n"
   ]
  },
  {
   "cell_type": "markdown",
   "id": "7780d85b-ff67-4e76-b1c1-c1061a9f3e05",
   "metadata": {},
   "source": [
    "      11. Write a program that calculates the roots of a quadratic equation .\n"
   ]
  },
  {
   "cell_type": "code",
   "execution_count": 45,
   "id": "bf74e009-79c1-4d33-a7ba-adaf5b72fce2",
   "metadata": {},
   "outputs": [
    {
     "name": "stdin",
     "output_type": "stream",
     "text": [
      "Enter a:  10\n",
      "Enter b:  10\n",
      "Enter c:  12\n"
     ]
    },
    {
     "name": "stdout",
     "output_type": "stream",
     "text": [
      "The solution are (-0.5-0.9746794344808963j) and (-0.5+0.9746794344808963j)\n"
     ]
    }
   ],
   "source": [
    "# import complex math module  \n",
    "import cmath  \n",
    "a = float(input('Enter a: '))  \n",
    "b = float(input('Enter b: '))  \n",
    "c = float(input('Enter c: '))  \n",
    "  \n",
    "# calculate the discriminant  \n",
    "d = (b**2) - (4*a*c)  \n",
    "  \n",
    "# find two solutions  \n",
    "sol1 = (-b-cmath.sqrt(d))/(2*a)  \n",
    "sol2 = (-b+cmath.sqrt(d))/(2*a)  \n",
    "print('The solution are {0} and {1}'.format(sol1,sol2))"
   ]
  },
  {
   "cell_type": "markdown",
   "id": "2104ef2a-e583-4427-9b42-3099a2a1ac68",
   "metadata": {},
   "source": [
    "     12. Create a program that determines the day of the week based on the day number (1-7).\n"
   ]
  },
  {
   "cell_type": "code",
   "execution_count": 47,
   "id": "907a5296-8f69-4983-bc44-bcdd5cb5ce1a",
   "metadata": {},
   "outputs": [
    {
     "name": "stdin",
     "output_type": "stream",
     "text": [
      "Enter a number from 1 to 7:  5\n"
     ]
    },
    {
     "name": "stdout",
     "output_type": "stream",
     "text": [
      "5 is Thursday\n"
     ]
    }
   ],
   "source": [
    "day = int(input(\"Enter a number from 1 to 7: \"))\n",
    "if day == 1:\n",
    "    print(day, \"is Sunday\")\n",
    "elif day == 2:\n",
    "    print(day, \"is Monday\")\n",
    "elif day == 3:\n",
    "    print(day, \"is Tuesday\")\n",
    "elif day == 4:\n",
    "    print(day, \"is Wednesday\")\n",
    "elif day == 5:\n",
    "    print(day, \"is Thursday\")\n",
    "elif day == 6:\n",
    "    print(day, \"is Friday\")\n",
    "elif day == 7:\n",
    "    print(day, \"is saturday\")"
   ]
  },
  {
   "cell_type": "markdown",
   "id": "c3eb6de5-f652-4e9c-9c61-e0f8adc3ad1c",
   "metadata": {},
   "source": [
    "      13. Develop a program that calculates the factorial of a given number using recursion.\n"
   ]
  },
  {
   "cell_type": "code",
   "execution_count": 61,
   "id": "ca87d932-0788-4e3f-8606-8d453cf075ef",
   "metadata": {},
   "outputs": [
    {
     "name": "stdin",
     "output_type": "stream",
     "text": [
      "enter the factorial number: 5\n"
     ]
    },
    {
     "name": "stdout",
     "output_type": "stream",
     "text": [
      "The factorial of 5 is 120\n"
     ]
    }
   ],
   "source": [
    "# Factorial of a number using recursion\n",
    "\n",
    "def recur_factorial(n):\n",
    "    if n == 1:\n",
    "        return n\n",
    "    else:\n",
    "        return n*recur_factorial(n-1)\n",
    "\n",
    "num = int(input(\"enter the factorial number:\"))\n",
    "\n",
    "# check if the number is negative\n",
    "if num < 0:\n",
    "    print(\"Sorry, factorial does not exist for negative numbers\")\n",
    "elif num == 0:\n",
    "    print(\"The factorial of 0 is 1\")\n",
    "else:\n",
    "    print(\"The factorial of\", num, \"is\", recur_factorial(num))"
   ]
  },
  {
   "cell_type": "markdown",
   "id": "665acd03-4025-4933-bcfe-c83f7f250a0e",
   "metadata": {},
   "source": [
    "      14. Write a program to find the largest among three numbers without using the `max()` function"
   ]
  },
  {
   "cell_type": "code",
   "execution_count": 65,
   "id": "4b894964-e9e1-44e8-8872-b28e21165c51",
   "metadata": {},
   "outputs": [
    {
     "name": "stdin",
     "output_type": "stream",
     "text": [
      "enter a number1: 10\n",
      "enter a number2: 14\n",
      "enter a number3: 48\n"
     ]
    },
    {
     "name": "stdout",
     "output_type": "stream",
     "text": [
      "the largest number: 48\n"
     ]
    }
   ],
   "source": [
    "def maximum(a, b, c): \n",
    " \n",
    "    if (a >= b) and (a >= c): \n",
    "        largest = a \n",
    " \n",
    "    elif (b >= a) and (b >= c): \n",
    "        largest = b \n",
    "    else: \n",
    "        largest = c \n",
    "         \n",
    "    return largest \n",
    " \n",
    " #Driven code \n",
    "a = int(input(\"enter a number1:\"))\n",
    "b = int(input(\"enter a number2:\"))\n",
    "c = int(input(\"enter a number3:\"))\n",
    "print(\"the largest number:\",maximum(a, b, c)) "
   ]
  },
  {
   "cell_type": "markdown",
   "id": "2dfe4aa0-5bda-45d3-80f6-e52f70b066be",
   "metadata": {},
   "source": [
    "     15. Create a program that simulates a basic ATM transaction menu.\n"
   ]
  },
  {
   "cell_type": "code",
   "execution_count": 67,
   "id": "70a46571-8613-419d-8bac-22ab01f7606e",
   "metadata": {},
   "outputs": [
    {
     "name": "stdout",
     "output_type": "stream",
     "text": [
      "welcome to bank of india\n"
     ]
    },
    {
     "name": "stdin",
     "output_type": "stream",
     "text": [
      "please enter your 4 digit pin number: 1234\n",
      "d: deposit or w: withdraw: d\n",
      "enter the amount you would like to deposit: 5000\n"
     ]
    },
    {
     "name": "stdout",
     "output_type": "stream",
     "text": [
      "5000 $ have been deposited into your account\n"
     ]
    },
    {
     "name": "stdin",
     "output_type": "stream",
     "text": [
      "would you like to continue? Y/N: N\n"
     ]
    },
    {
     "name": "stdout",
     "output_type": "stream",
     "text": [
      "thank you for using bank of india\n"
     ]
    }
   ],
   "source": [
    "print(\"welcome to bank of india\")\n",
    "trials = 3\n",
    "userpin = 1234\n",
    "\n",
    "while trials != 0:\n",
    "    pin = int(input(\"please enter your 4 digit pin number:\"))\n",
    "    if pin != userpin:\n",
    "        trials -= 1\n",
    "        print(\"wrong pin number, you have\",trials,\"trials left\" )\n",
    "    else:\n",
    "        userchoice = input(\"d: deposit or w: withdraw:\")\n",
    "        if userchoice == \"d\":\n",
    "            userdeposit = input(\"enter the amount you would like to deposit:\")\n",
    "            print(userdeposit, \"$ have been deposited into your account\")\n",
    "        if userchoice == \"w\":\n",
    "            userwithdraw = input(\"enter the amount you would like to withdraw:\")\n",
    "            print(userwithdraw, \"$ have been withdrawn into your account\")\n",
    "        userexit = input(\"would you like to continue? Y/N:\")    \n",
    "        if userexit == \"N\":\n",
    "            print(\"thank you for using bank of india\")\n",
    "            break\n",
    "        else:\n",
    "            continue"
   ]
  },
  {
   "cell_type": "markdown",
   "id": "fe14878b-8b4d-469b-a079-7aab3f738667",
   "metadata": {},
   "source": [
    "     16. Build a program that checks if a given string is a palindrome or not.\n"
   ]
  },
  {
   "cell_type": "code",
   "execution_count": 6,
   "id": "abea34cb-0510-4b8f-8a9e-b577c2b68715",
   "metadata": {},
   "outputs": [
    {
     "name": "stdin",
     "output_type": "stream",
     "text": [
      " javaj\n"
     ]
    },
    {
     "name": "stdout",
     "output_type": "stream",
     "text": [
      "PALINDROME !\n"
     ]
    }
   ],
   "source": [
    "str = input()\n",
    "strstr = str.casefold()\n",
    "# This string is reverse.\n",
    "rev = reversed(str)\n",
    "if list(str) == list(rev):\n",
    "    print(\"PALINDROME !\")\n",
    "else:\n",
    "    print(\"NOT PALINDROME !\")"
   ]
  },
  {
   "cell_type": "markdown",
   "id": "0438cfbb-a432-427e-b402-82e425a81d39",
   "metadata": {},
   "source": [
    "     17. Write a program that calculates the average of a list of numbers, excluding the smallest and largest values"
   ]
  },
  {
   "cell_type": "code",
   "execution_count": 6,
   "id": "91c2a2de-dca1-4633-9751-4c90d05d3728",
   "metadata": {},
   "outputs": [
    {
     "name": "stdout",
     "output_type": "stream",
     "text": [
      "Average of the list = 35.75\n"
     ]
    }
   ],
   "source": [
    "# Python program to get average of a list \n",
    "def Average(lst): \n",
    "    return sum(lst) / len(lst) \n",
    " \n",
    "# Driver Code \n",
    "lst = [15, 9, 55, 41, 35, 20, 62, 49 ]\n",
    "average = Average(lst) \n",
    " \n",
    "# Printing average of the list \n",
    "print(\"Average of the list =\", round(average, 2)) "
   ]
  },
  {
   "cell_type": "markdown",
   "id": "ca19221b-9e27-4d8e-93c3-b7c5727accad",
   "metadata": {},
   "source": [
    "     18. Develop a program that converts a given temperature from Celsius to Fahrenheit.\n"
   ]
  },
  {
   "cell_type": "code",
   "execution_count": 2,
   "id": "86ce67e7-afc1-4565-8bef-63d96bf156cc",
   "metadata": {},
   "outputs": [
    {
     "name": "stdin",
     "output_type": "stream",
     "text": [
      "Enter the Temperature in Celsius :\n",
      " 56\n"
     ]
    },
    {
     "name": "stdout",
     "output_type": "stream",
     "text": [
      "Temperature in Fahrenheit : 132.8\n"
     ]
    }
   ],
   "source": [
    "celsius = int(input(\"Enter the Temperature in Celsius :\\n\"))\n",
    "fahrenheit = (1.8 * celsius) + 32\n",
    "print(\"Temperature in Fahrenheit :\", fahrenheit)"
   ]
  },
  {
   "cell_type": "markdown",
   "id": "f3d626d1-d081-4dbd-a1f2-4f910aa6fac1",
   "metadata": {},
   "source": [
    "    19. Create a program that simulates a basic calculator for addition, subtraction, multiplication, and division.\n"
   ]
  },
  {
   "cell_type": "code",
   "execution_count": 16,
   "id": "81beaada-ff76-4687-b5e8-37cadd09f3e8",
   "metadata": {},
   "outputs": [
    {
     "name": "stdin",
     "output_type": "stream",
     "text": [
      "Enter the First Number:  54\n",
      "enter the second number: 78\n"
     ]
    },
    {
     "name": "stdout",
     "output_type": "stream",
     "text": [
      "54.0 + 78.0 = \n",
      "132.0\n",
      "54.0 - 78.0 = \n",
      "-24.0\n",
      "54.0 * 78.0 = \n",
      "4212.0\n",
      "54.0 / 78.0 = \n",
      "0.6923076923076923\n"
     ]
    }
   ],
   "source": [
    "#Promting input from the user. \n",
    "n1 = float(input(\"Enter the First Number: \"))\n",
    "n2 = float(input(\"enter the second number:\"))\n",
    "#addition.\n",
    "print(\"{} + {} = \". format(n1, n2))\n",
    "print(n1+n2)\n",
    "#subtraction. \n",
    "print(\"{} - {} = \". format(n1, n2))\n",
    "print(n1-n2)\n",
    "#multiplication. \n",
    "print(\"{} * {} = \". format(n1, n2))\n",
    "print(n1*n2)\n",
    "#division. \n",
    "print(\"{} / {} = \". format(n1, n2))\n",
    "print(n1/n2)"
   ]
  },
  {
   "cell_type": "markdown",
   "id": "aa1cd21a-1026-423e-b876-7035602de1da",
   "metadata": {},
   "source": [
    "     20. Write a program that determines the roots of a cubic equation using the Cardano formula.\n"
   ]
  },
  {
   "cell_type": "code",
   "execution_count": 24,
   "id": "fcb481ca-1f03-42ef-9f96-8e79594833a6",
   "metadata": {},
   "outputs": [
    {
     "name": "stdin",
     "output_type": "stream",
     "text": [
      " 8\n"
     ]
    },
    {
     "name": "stdout",
     "output_type": "stream",
     "text": [
      "Cubic Root of 8 is 2.0\n"
     ]
    },
    {
     "name": "stdin",
     "output_type": "stream",
     "text": [
      " 10\n"
     ]
    },
    {
     "name": "stdout",
     "output_type": "stream",
     "text": [
      "Cubic Root of 10 is 2.154435\n"
     ]
    }
   ],
   "source": [
    "import math\n",
    " \n",
    "def cubic_root(n):\n",
    "    return round(math.exp(math.log(n)/3), 6)\n",
    " \n",
    "n = int(input())\n",
    "print(\"Cubic Root of\", n, \"is\", cubic_root(n))\n",
    "n = int(input())\n",
    "print(\"Cubic Root of\", n, \"is\", cubic_root(n))"
   ]
  },
  {
   "cell_type": "markdown",
   "id": "d6bbf227-5352-498e-acf4-a7d9af7c1d84",
   "metadata": {},
   "source": [
    "\n",
    "                           Advanced Level:\n"
   ]
  },
  {
   "cell_type": "markdown",
   "id": "7325ff10-aa7e-44cd-bf3d-df40a80f84d5",
   "metadata": {},
   "source": [
    "     21. Create a program that calculates the income tax based on the user's income and tax brackets.\n"
   ]
  },
  {
   "cell_type": "code",
   "execution_count": 8,
   "id": "005a9008-a11e-4141-919d-2963a2140647",
   "metadata": {},
   "outputs": [
    {
     "name": "stdin",
     "output_type": "stream",
     "text": [
      "What's your \\ annual income?\n",
      ">>>  1000000\n"
     ]
    },
    {
     "name": "stdout",
     "output_type": "stream",
     "text": [
      "Total tax applicable at \\ ₹1000000.0 is ₹75000.0\n"
     ]
    }
   ],
   "source": [
    "def calculate(amount, percent): \n",
    "\treturn (amount * percent) / 100\n",
    "\n",
    "def calculate_income_tax(total_income: float) -> float: \n",
    "\n",
    "\tif total_income <= 250000: \n",
    "\t\treturn 0\n",
    "\telif total_income <= 500000: \n",
    "\t\treturn calculate(total_income -\n",
    "\t\t\t\t\t\t250000, 5) \n",
    "\telif total_income <= 750000: \n",
    "\t\treturn calculate(total_income -\n",
    "\t\t\t\t\t\t500000, 10) + 12500\n",
    "\telif total_income <= 1000000: \n",
    "\t\treturn calculate(total_income -\n",
    "\t\t\t\t\t\t750000, 15) + 37500\n",
    "\telif total_income <= 1250000: \n",
    "\t\treturn calculate(total_income -\n",
    "\t\t\t\t\t\t1000000, 20) + 75000\n",
    "\telif total_income <= 1500000: \n",
    "\t\treturn calculate(total_income -\n",
    "\t\t\t\t\t\t1250000, 25) + 125000\n",
    "\telse: \n",
    "\t\treturn calculate(total_income -\n",
    "\t\t\t\t\t\t1500000, 30) + 187500\n",
    "\n",
    "\n",
    "if __name__ == '__main__': \n",
    "\ttotal_income = float(input(\"What's your \\ annual income?\\n>>> \"))\n",
    "\ttax = calculate_income_tax(total_income) \n",
    "\tprint(f\"Total tax applicable at \\ ₹{total_income} is ₹{tax}\") \n"
   ]
  },
  {
   "cell_type": "markdown",
   "id": "d5a1df80-4da7-4f5a-908c-c50799bba1b8",
   "metadata": {},
   "source": [
    "     22. Write a program that simulates a rock-paper-scissors game against the computer.\n"
   ]
  },
  {
   "cell_type": "code",
   "execution_count": 12,
   "id": "950d1c16-656e-427e-adc1-a053830070f6",
   "metadata": {},
   "outputs": [
    {
     "name": "stdout",
     "output_type": "stream",
     "text": [
      "Let's play 'Rock, Paper, Scissors'!\n"
     ]
    },
    {
     "name": "stdin",
     "output_type": "stream",
     "text": [
      "Choose 'rock', 'paper', or 'scissors' by typing that word.  paper\n"
     ]
    },
    {
     "name": "stdout",
     "output_type": "stream",
     "text": [
      "Computer chooses rock\n",
      "Congratulations! You won :)\n"
     ]
    },
    {
     "name": "stdin",
     "output_type": "stream",
     "text": [
      "Would you like to play again? Enter 'y' for yes or     'n' for no:  n\n"
     ]
    },
    {
     "name": "stdout",
     "output_type": "stream",
     "text": [
      "Goodbye!\n"
     ]
    }
   ],
   "source": [
    "#import random module\n",
    "import random\n",
    "#main function\n",
    "def main():\n",
    "    #intro message\n",
    "    print(\"Let's play 'Rock, Paper, Scissors'!\")\n",
    "    #call the user's guess function\n",
    "    number = user_guess()\n",
    "    #call the computer's number function\n",
    "    num = computer_number()\n",
    "    #call the results function\n",
    "    results(num, number)\n",
    "\n",
    "#computer_number function\n",
    "def computer_number():\n",
    "    #get a random number in the range of 1 through 3\n",
    "    num = random.randrange(1,4)\n",
    "    #if/elif statement\n",
    "    if num == 1:\n",
    "        print(\"Computer chooses rock\")\n",
    "    elif num == 2:\n",
    "        print(\"Computer chooses paper\")\n",
    "    elif num == 3:\n",
    "        print(\"Computer chooses scissors\")\n",
    "    #return the number\n",
    "    return num\n",
    "\n",
    "#user_guess function\n",
    "def user_guess():\n",
    "    #get the user's guess\n",
    "    guess = input(\"Choose 'rock', 'paper', or 'scissors' by typing that word. \")\n",
    "    #while guess == 'paper' or guess == 'rock' or guess == 'scissors':\n",
    "    if is_valid_guess(guess):\n",
    "        #if/elif statement\n",
    "        #assign 1 to rock\n",
    "        if guess == 'rock':\n",
    "            number = 1\n",
    "        #assign 2 to paper\n",
    "        elif guess == 'paper':\n",
    "            number = 2\n",
    "        #assign 3 to scissors\n",
    "        elif guess == 'scissors':\n",
    "            number = 3\n",
    "        return number\n",
    "    else:\n",
    "        print('That response is invalid.')\n",
    "        user_guess()\n",
    "\n",
    "def is_valid_guess(guess):\n",
    "    if guess == 'rock' or 'paper' or 'scissors':\n",
    "        status = True\n",
    "    else:\n",
    "        status = False\n",
    "    return status\n",
    "\n",
    "def restart():\n",
    "    answer = input(\"Would you like to play again? Enter 'y' for yes or \\\n",
    "    'n' for no: \")\n",
    "    #if/elif statement\n",
    "    if answer == 'y':\n",
    "        main()\n",
    "    elif answer == 'n':\n",
    "        print(\"Goodbye!\")\n",
    "    else:\n",
    "        print(\"Please enter only 'y' or 'n'!\")\n",
    "        #call restart\n",
    "        restart()\n",
    "\n",
    "#results function\n",
    "def results(num, number):\n",
    "    #find the difference in the two numbers\n",
    "    difference = num - number\n",
    "    #if/elif statement\n",
    "    if difference == 0:\n",
    "        print(\"TIE!\")\n",
    "        #call restart\n",
    "        restart()\n",
    "    elif difference % 3 == 1:\n",
    "        print(\"I'm sorry! You lost :(\")\n",
    "        #call restart\n",
    "        restart()\n",
    "    elif difference % 3 == 2:\n",
    "        print(\"Congratulations! You won :)\")\n",
    "        #call restart\n",
    "        restart()\n",
    "\n",
    "main()"
   ]
  },
  {
   "cell_type": "markdown",
   "id": "2d18703d-d378-425d-a424-f787f497d645",
   "metadata": {},
   "source": [
    "     23. Develop a program that generates a random password based on user preferences (length, complexity).\n"
   ]
  },
  {
   "cell_type": "code",
   "execution_count": null,
   "id": "806998fb-4061-4935-ade3-822b8b246a2e",
   "metadata": {},
   "outputs": [],
   "source": [
    "# importing the random module\n",
    "import random\n",
    "\n",
    "# a function that will generate a password on length (n) and return it.\n",
    "def generatePassword(n):\n",
    "    # defining the list of choices of characters.\n",
    "    characters = \"abcdefghijklmnopqrstuvwxyzABCDEFGHIJKLMNOPQRSTUVWXYZ123456789!@#$%^&*()\"\n",
    "\n",
    "    # initializing an empty string to store the password.\n",
    "    password = \"\"\n",
    "\n",
    "    for i in range(n):\n",
    "        # randomly selecting one character and appending it to the resultant password string\n",
    "        password += random.choice(characters)\n",
    "\n",
    "    # finally returning the randomly generated password.\n",
    "    return password\n",
    "\n",
    "\n",
    "if __name__ == \"__main__\":\n",
    "    n = int(input(\"enter a number:\"))\n",
    "    password = generatePassword(n)\n",
    "    print(\"A randomly selected password is:\", password)"
   ]
  },
  {
   "cell_type": "markdown",
   "id": "53d7848e-5095-4566-b3e4-c02829230387",
   "metadata": {},
   "source": [
    "       24. Create a program that implements a simple text-based adventure game with branching scenarios.\n"
   ]
  },
  {
   "cell_type": "code",
   "execution_count": 4,
   "id": "11949119-8cf7-42dc-b118-aef99916dd70",
   "metadata": {},
   "outputs": [
    {
     "name": "stdout",
     "output_type": "stream",
     "text": [
      "\n",
      "WELCOME! LET'S START THE ADVENTURE\n",
      "\n",
      "You are standing outside of your house and you see a man running towards you and asking for urgent shelter.\n",
      "\n",
      "Will you provide shelter to him. (Yes / No)\n",
      "\n"
     ]
    },
    {
     "name": "stdin",
     "output_type": "stream",
     "text": [
      ">> y\n"
     ]
    },
    {
     "name": "stdout",
     "output_type": "stream",
     "text": [
      "\n",
      "After 2 minutes, the Police came to your house, and ask you that whether the thief is in your house or not. Will you say (Yes / No)\n",
      "\n"
     ]
    },
    {
     "name": "stdin",
     "output_type": "stream",
     "text": [
      ">> n\n"
     ]
    },
    {
     "name": "stdout",
     "output_type": "stream",
     "text": [
      "\n",
      "You helped a thief. Now, go to Jail. GAME OVER\n"
     ]
    }
   ],
   "source": [
    "answer_yes = [\"Yes\", \"Y\", \"yes\", \"y\"]\n",
    "answer_no = [\"No\", \"N\", \"no\", \"n\"]\n",
    "\n",
    "print(\"\"\"\n",
    "WELCOME! LET'S START THE ADVENTURE\n",
    "\n",
    "You are standing outside of your house and you see a man running towards you and asking for urgent shelter.\n",
    "\n",
    "Will you provide shelter to him. (Yes / No)\n",
    "\"\"\")\n",
    "\n",
    "ans1 = input(\">>\")\n",
    "\n",
    "if ans1 in answer_yes:\n",
    "    print(\"\\nAfter 2 minutes, the Police came to your house, and ask you that whether the thief is in your house or not. Will you say (Yes / No)\\n\")\n",
    "\n",
    "    ans2 = input(\">>\")\n",
    "\n",
    "    if ans2 in answer_yes:\n",
    "        print(\"\\nYou are an honest person. He was a thief & You won the Game\")\n",
    "\n",
    "    elif ans2 in answer_no:\n",
    "        print(\"\\nYou helped a thief. Now, go to Jail. GAME OVER\")\n",
    "\n",
    "  lowerlse:\n",
    "        print(\"\\nYou typed the wrong input. GOODBYE!\")\n",
    "\n",
    "elif ans1 in answer_no:\n",
    "    print(\"\\nNow, he is trying to kill you. Will, you knock him down? (Yes / No)\\n\")\n",
    "\n",
    "    ans3 = input(\">>\")\n",
    "\n",
    "    if ans3 in answer_yes:\n",
    "        print(\"\\nCongrats! He was a thief & You helped the police to catch him with your bravery.\")\n",
    "\n",
    "    elif ans3 in answer_no:\n",
    "        print(\"\\nSorry! You are dead. He was a thief & He killed you. GAME OVER\")\n",
    "\n",
    "    else:\n",
    "        print(\"\\nYou typed the wrong input. GOODBYE!\")\n",
    "\n",
    "else:\n",
    "    print(\"\\nYou typed the wrong input. GOODBYE!\")\n",
    "\n",
    "\n"
   ]
  },
  {
   "cell_type": "markdown",
   "id": "70ed0e0c-2694-4909-a4b9-ca56b8013dd2",
   "metadata": {},
   "source": [
    "     25. Build a program that solves a linear equation for x, considering different cases.\n"
   ]
  },
  {
   "cell_type": "code",
   "execution_count": 30,
   "id": "b77a8033-b8a0-418f-a971-59cba7d12c32",
   "metadata": {},
   "outputs": [
    {
     "name": "stdout",
     "output_type": "stream",
     "text": [
      "Equation 1:\n",
      "Eq(x + y, 1)\n",
      "Equation 2\n",
      "Eq(x - y, 1)\n",
      "Values of 2 unknown variable are as follows:\n",
      "{x: 1, y: 0}\n"
     ]
    }
   ],
   "source": [
    "# importing library sympy \n",
    "from sympy import symbols, Eq, solve \n",
    "\n",
    "# defining symbols used in equations \n",
    "# or unknown variables \n",
    "x, y = symbols('x,y') \n",
    "\n",
    "# defining equations \n",
    "eq1 = Eq((x+y), 1) \n",
    "print(\"Equation 1:\") \n",
    "print(eq1) \n",
    "eq2 = Eq((x-y), 1) \n",
    "print(\"Equation 2\") \n",
    "print(eq2) \n",
    "\n",
    "# solving the equation \n",
    "print(\"Values of 2 unknown variable are as follows:\") \n",
    "\n",
    "print(solve((eq1, eq2), (x, y))) \n"
   ]
  },
  {
   "cell_type": "markdown",
   "id": "f376cfd9-5654-45bc-bd5d-851e33dc3139",
   "metadata": {},
   "source": [
    "26. Write a program that simulates a basic quiz game with multiple-choice questions and scoring.\n"
   ]
  },
  {
   "cell_type": "markdown",
   "id": "96cac9f7-0a3f-44a7-9104-4a7ead7d42d7",
   "metadata": {},
   "source": [
    "     27. Develop a program that determines whether a given year is a prime number or not.\n"
   ]
  },
  {
   "cell_type": "code",
   "execution_count": 2,
   "id": "c9314191-fea0-4fc9-9ca8-5e408b92c9b1",
   "metadata": {},
   "outputs": [
    {
     "name": "stdout",
     "output_type": "stream",
     "text": [
      "  - 1771\n",
      "  - 1781\n",
      "  - 1871\n",
      "  - 1881\n"
     ]
    },
    {
     "name": "stdin",
     "output_type": "stream",
     "text": [
      "When was the first known use of the word 'quiz'?  1771\n"
     ]
    },
    {
     "name": "stdout",
     "output_type": "stream",
     "text": [
      "The answer is '1781', not '1771'\n",
      "  - get\n",
      "  - input\n",
      "  - print\n",
      "  - write\n"
     ]
    },
    {
     "name": "stdin",
     "output_type": "stream",
     "text": [
      "Which built-in function can get information from the user?  print\n"
     ]
    },
    {
     "name": "stdout",
     "output_type": "stream",
     "text": [
      "The answer is 'input', not 'print'\n",
      "  - each\n",
      "  - for\n",
      "  - loop\n",
      "  - while\n"
     ]
    },
    {
     "name": "stdin",
     "output_type": "stream",
     "text": [
      "Which keyword do you use to loop over a given list of elements?  for\n"
     ]
    },
    {
     "name": "stdout",
     "output_type": "stream",
     "text": [
      "Correct!\n",
      "  - To combine several strings into one\n",
      "  - To compress several files into one archive\n",
      "  - To get information from the user\n",
      "  - To iterate over two or more sequences at the same time\n"
     ]
    },
    {
     "name": "stdin",
     "output_type": "stream",
     "text": [
      "What's the purpose of the built-in zip() function?  to compress several files into one archive\n"
     ]
    },
    {
     "name": "stdout",
     "output_type": "stream",
     "text": [
      "The answer is 'To iterate over two or more sequences at the same time', not 'to compress several files into one archive'\n"
     ]
    }
   ],
   "source": [
    "# quiz.py\n",
    "\n",
    "QUESTIONS = {\n",
    "    \"When was the first known use of the word 'quiz'\": [\n",
    "        \"1781\", \"1771\", \"1871\", \"1881\"\n",
    "    ],\n",
    "    \"Which built-in function can get information from the user\": [\n",
    "        \"input\", \"get\", \"print\", \"write\"\n",
    "    ],\n",
    "    \"Which keyword do you use to loop over a given list of elements\": [\n",
    "        \"for\", \"while\", \"each\", \"loop\"\n",
    "    ],\n",
    "    \"What's the purpose of the built-in zip() function\": [\n",
    "        \"To iterate over two or more sequences at the same time\",\n",
    "        \"To combine several strings into one\",\n",
    "        \"To compress several files into one archive\",\n",
    "        \"To get information from the user\",\n",
    "    ],\n",
    "}\n",
    "\n",
    "for question, alternatives in QUESTIONS.items():\n",
    "    correct_answer = alternatives[0]\n",
    "    for alternative in sorted(alternatives):\n",
    "        print(f\"  - {alternative}\")\n",
    "\n",
    "    answer = input(f\"{question}? \")\n",
    "    if answer == correct_answer:\n",
    "        print(\"Correct!\")\n",
    "    else:\n",
    "        print(f\"The answer is {correct_answer!r}, not {answer!r}\")"
   ]
  },
  {
   "cell_type": "code",
   "execution_count": 1,
   "id": "b8ff19a1-be9c-4745-a760-5207b2060c70",
   "metadata": {},
   "outputs": [
    {
     "name": "stdin",
     "output_type": "stream",
     "text": [
      "enter the prime number: 5\n"
     ]
    },
    {
     "name": "stdout",
     "output_type": "stream",
     "text": [
      "5 is a prime number\n"
     ]
    }
   ],
   "source": [
    "num = int(input(\"enter the prime number:\"))\n",
    "# If given number is greater than 1\n",
    "if num > 1:\n",
    "\t# Iterate from 2 to n / 2\n",
    "\tfor i in range(2, int(num/2)+1):\n",
    "\t\t# If num is divisible by any number between\n",
    "\t\t# 2 and n / 2, it is not prime\n",
    "\t\tif (num % i) == 0:\n",
    "\t\t\tprint(num, \"is not a prime number\")\n",
    "\t\t\tbreak\n",
    "\telse:\n",
    "\t\tprint(num, \"is a prime number\")\n",
    "else:\n",
    "\tprint(num, \"is not a prime number\")"
   ]
  },
  {
   "cell_type": "markdown",
   "id": "cad46574-f5ea-432b-b74f-3b386143a848",
   "metadata": {},
   "source": [
    "     28. Create a program that sorts three numbers in ascending order using conditional statements.\n"
   ]
  },
  {
   "cell_type": "code",
   "execution_count": 38,
   "id": "c4872e37-ca35-4b99-87b0-6fe5509cb4ec",
   "metadata": {},
   "outputs": [
    {
     "name": "stdin",
     "output_type": "stream",
     "text": [
      "Enter a:  15\n",
      "Enter b:  145\n",
      "Enter c:  126\n"
     ]
    },
    {
     "name": "stdout",
     "output_type": "stream",
     "text": [
      "15.0 < 126.0 < 145.0\n"
     ]
    }
   ],
   "source": [
    "a = float(input(\"Enter a: \"))\n",
    "b = float(input(\"Enter b: \"))\n",
    "c = float(input(\"Enter c: \"))\n",
    "\n",
    "if a > b:\n",
    "    a,b = b,a\n",
    "if a > c:\n",
    "    a,c = c,a\n",
    "if b > c:\n",
    "    b,c = c,b\n",
    "    \n",
    "print (a, \"<\", b, \"<\", c)"
   ]
  },
  {
   "cell_type": "markdown",
   "id": "dcbb7f21-c067-4f29-ad42-da8ee0b975c2",
   "metadata": {},
   "source": [
    "    29. Build a program that determines the roots of a quardtic equation using numerical methods.\n"
   ]
  },
  {
   "cell_type": "code",
   "execution_count": 40,
   "id": "2ccb41fa-dd5f-4a70-8a60-a3d46116a9af",
   "metadata": {},
   "outputs": [
    {
     "name": "stdin",
     "output_type": "stream",
     "text": [
      " 1\n",
      " 5\n",
      " 9\n"
     ]
    },
    {
     "name": "stdout",
     "output_type": "stream",
     "text": [
      "The solution are (-2.5-1.6583123951777j) and (-2.5+1.6583123951777j)\n"
     ]
    }
   ],
   "source": [
    "# Solve the quadratic equation ax**2 + bx + c = 0\n",
    "\n",
    "# import complex math module\n",
    "import cmath\n",
    "\n",
    "a = int(input())\n",
    "b = int(input())\n",
    "c = int(input())\n",
    "\n",
    "# calculate the discriminant\n",
    "d = (b**2) - (4*a*c)\n",
    "\n",
    "# find two solutions\n",
    "sol1 = (-b-cmath.sqrt(d))/(2*a)\n",
    "sol2 = (-b+cmath.sqrt(d))/(2*a)\n",
    "\n",
    "print('The solution are {0} and {1}'.format(sol1,sol2))\n"
   ]
  },
  {
   "cell_type": "markdown",
   "id": "dd40a763-0cca-4db7-91d9-2f675f942928",
   "metadata": {},
   "source": [
    "    30. Write a program that calculates the BMI (Body Mass Index) and provides health recommendations based on the user's input.\n",
    "\n"
   ]
  },
  {
   "cell_type": "code",
   "execution_count": 49,
   "id": "7940b30a-f9fe-4d88-96e2-092a209fbf4d",
   "metadata": {},
   "outputs": [
    {
     "name": "stdin",
     "output_type": "stream",
     "text": [
      "enter a height: 1\n",
      "enter a weight: 45\n"
     ]
    },
    {
     "name": "stdout",
     "output_type": "stream",
     "text": [
      "The BMI is 45.0 so Suffering from Obesity\n"
     ]
    }
   ],
   "source": [
    "#Python program to illustrate \n",
    "# how to calculate BMI \n",
    "def BMI(height, weight): \n",
    "\tbmi = weight/(height**2) \n",
    "\treturn bmi \n",
    "\n",
    "# Driver code \n",
    "height = float(input(\"enter a height:\"))\n",
    "weight = float(input(\"enter a weight:\"))\n",
    "\n",
    "# calling the BMI function \n",
    "bmi = BMI(height, weight) \n",
    "print(\"The BMI is\", format(bmi), \"so \", end='') \n",
    "\n",
    "# Conditions to find out BMI category \n",
    "if (bmi < 18.5): \n",
    "\tprint(\"underweight\") \n",
    "\n",
    "elif ( bmi >= 18.5 and bmi < 24.9): \n",
    "\tprint(\"Healthy\") \n",
    "\n",
    "elif ( bmi >= 24.9 and bmi < 30): \n",
    "\tprint(\"overweight\") \n",
    "\n",
    "elif ( bmi >=30): \n",
    "\tprint(\"Suffering from Obesity\") "
   ]
  },
  {
   "cell_type": "markdown",
   "id": "560cecbb-c059-4bd6-91c9-8a79e5207a98",
   "metadata": {},
   "source": [
    "                              \n",
    "                              Challenge Level:\n",
    "  "
   ]
  },
  {
   "cell_type": "markdown",
   "id": "d3883d4b-1e1b-447f-b083-522319b48cf6",
   "metadata": {},
   "source": [
    "     31. Create a program that validates a password based on complexity rules (length, characters, etc.).\n"
   ]
  },
  {
   "cell_type": "code",
   "execution_count": 56,
   "id": "2b30c55d-0314-4498-9c77-58dfb4b17952",
   "metadata": {},
   "outputs": [
    {
     "name": "stdout",
     "output_type": "stream",
     "text": [
      "Valid password\n"
     ]
    }
   ],
   "source": [
    "import re  \n",
    "  \n",
    "def validate_password(password):  \n",
    "    if len(password) < 8:  \n",
    "        return False  \n",
    "    if not re.search(\"[a-z]\", password):  \n",
    "        return False  \n",
    "    if not re.search(\"[A-Z]\", password):  \n",
    "        return False  \n",
    "    if not re.search(\"[0-9]\", password):  \n",
    "        return False  \n",
    "    return True  \n",
    "  \n",
    "password = \"P@ssw0rd\"  \n",
    "if validate_password(password):  \n",
    "    print(\"Valid password\")  \n",
    "else:  \n",
    "    print(\"Invalid password\")  "
   ]
  },
  {
   "cell_type": "markdown",
   "id": "71f91aa8-adea-4c59-9bdd-dcf993017cef",
   "metadata": {},
   "source": [
    "     32. Develop a program that performs matrix addition and subtraction based on user input.\n"
   ]
  },
  {
   "cell_type": "code",
   "execution_count": 36,
   "id": "2533ceb2-ab80-4c61-899d-3a3965c8bd70",
   "metadata": {},
   "outputs": [
    {
     "name": "stdout",
     "output_type": "stream",
     "text": [
      "Printing elements of first matrix\n",
      "[[1 2]\n",
      " [3 4]]\n",
      "Printing elements of second matrix\n",
      "[[4 5]\n",
      " [6 7]]\n",
      "Addition of two matrix\n",
      "[[ 5  7]\n",
      " [ 9 11]]\n"
     ]
    }
   ],
   "source": [
    "# importing numpy as np\n",
    "import numpy as np\n",
    "\n",
    "\n",
    "# creating first matrix\n",
    "A = np.array([[1, 2], [3, 4]])\n",
    "\n",
    "# creating second matrix\n",
    "B = np.array([[4, 5], [6, 7]])\n",
    "\n",
    "print(\"Printing elements of first matrix\")\n",
    "print(A)\n",
    "print(\"Printing elements of second matrix\")\n",
    "print(B)\n",
    "\n",
    "# adding two matrix\n",
    "print(\"Addition of two matrix\")\n",
    "print(np.add(A, B))\n"
   ]
  },
  {
   "cell_type": "markdown",
   "id": "8def5ae2-b651-4003-b987-63bd5e90706f",
   "metadata": {},
   "source": [
    "    33. Write a program that calculates the greatest common divisor (GCD) of two numbers using the Euclidean algorithm.\n",
    "\n"
   ]
  },
  {
   "cell_type": "code",
   "execution_count": 65,
   "id": "7ab0ce70-d80b-4ae5-b97b-1d90a64794c7",
   "metadata": {},
   "outputs": [
    {
     "name": "stdout",
     "output_type": "stream",
     "text": [
      "gcd( 10 , 15 ) =  5\n",
      "gcd( 35 , 10 ) =  5\n",
      "gcd( 31 , 2 ) =  1\n"
     ]
    }
   ],
   "source": [
    "# Python3 program to demonstrate Basic Euclidean Algorithm\n",
    "\n",
    "\n",
    "# Function to return gcd of a and b\n",
    "def gcd(a, b):\n",
    "\tif a == 0:\n",
    "\t\treturn b\n",
    "\n",
    "\treturn gcd(b % a, a)\n",
    "# Driver code\n",
    "a = 10\n",
    "b = 15\n",
    "print(\"gcd(\", a, \",\", b, \") = \", gcd(a, b))\n",
    "\n",
    "a = 35\n",
    "b = 10\n",
    "print(\"gcd(\", a, \",\", b, \") = \", gcd(a, b))\n",
    "\n",
    "a = 31\n",
    "b = 2\n",
    "print(\"gcd(\", a, \",\", b, \") = \", gcd(a, b))\n",
    "\n",
    "# Code Contributed By Mohit Gupta_OMG <(0_o)>\n"
   ]
  },
  {
   "cell_type": "markdown",
   "id": "c67af4ca-fb0c-4fcc-a9e4-038fecab119f",
   "metadata": {},
   "source": [
    "     34. Build a program that performs matrix multiplication using nested loops and conditional statements.\n"
   ]
  },
  {
   "cell_type": "code",
   "execution_count": 69,
   "id": "22da3448-fb78-4997-867b-1e0774114cf8",
   "metadata": {},
   "outputs": [
    {
     "name": "stdout",
     "output_type": "stream",
     "text": [
      "[114, 160, 60, 27]\n",
      "[74, 97, 73, 14]\n",
      "[119, 157, 112, 23]\n"
     ]
    }
   ],
   "source": [
    "# Program to multiply two matrices using nested loops\n",
    "\n",
    "# 3x3 matrix\n",
    "X = [[12,7,3],\n",
    "    [4 ,5,6],\n",
    "    [7 ,8,9]]\n",
    "# 3x4 matrix\n",
    "Y = [[5,8,1,2],\n",
    "    [6,7,3,0],\n",
    "    [4,5,9,1]]\n",
    "# result is 3x4\n",
    "result = [[0,0,0,0],\n",
    "         [0,0,0,0],\n",
    "         [0,0,0,0]]\n",
    "\n",
    "# iterate through rows of X\n",
    "for i in range(len(X)):\n",
    "   # iterate through columns of Y\n",
    "   for j in range(len(Y[0])):\n",
    "       # iterate through rows of Y\n",
    "       for k in range(len(Y)):\n",
    "            result[i][j] += X[i][k] * Y[k][j]\n",
    "for r in result:\n",
    "    print(r)"
   ]
  },
  {
   "cell_type": "markdown",
   "id": "ca477652-9f08-45ed-bbcc-f45ee2bbdb78",
   "metadata": {},
   "source": [
    "     35. Create a program that simulates a basic text-based tic-tac-toe game against the computer.\n"
   ]
  },
  {
   "cell_type": "code",
   "execution_count": 56,
   "id": "b3284de8-6aff-4418-9236-cc232123bf28",
   "metadata": {},
   "outputs": [
    {
     "name": "stdout",
     "output_type": "stream",
     "text": [
      "[[0 0 0]\n",
      " [0 0 0]\n",
      " [0 0 0]]\n",
      "Board after 1 move\n",
      "[[0 0 0]\n",
      " [0 0 1]\n",
      " [0 0 0]]\n",
      "Board after 2 move\n",
      "[[0 0 0]\n",
      " [0 0 1]\n",
      " [2 0 0]]\n",
      "Board after 3 move\n",
      "[[0 0 0]\n",
      " [1 0 1]\n",
      " [2 0 0]]\n",
      "Board after 4 move\n",
      "[[0 0 0]\n",
      " [1 2 1]\n",
      " [2 0 0]]\n",
      "Board after 5 move\n",
      "[[0 0 0]\n",
      " [1 2 1]\n",
      " [2 0 1]]\n",
      "Board after 6 move\n",
      "[[0 0 2]\n",
      " [1 2 1]\n",
      " [2 0 1]]\n",
      "Winner is: 2\n"
     ]
    }
   ],
   "source": [
    "# Tic-Tac-Toe Program using\n",
    "# random number in Python\n",
    " \n",
    "# importing all necessary libraries\n",
    "import numpy as np\n",
    "import random\n",
    "from time import sleep\n",
    " \n",
    "# Creates an empty board\n",
    " \n",
    " \n",
    "def create_board():\n",
    "    return(np.array([[0, 0, 0],\n",
    "                     [0, 0, 0],\n",
    "                     [0, 0, 0]]))\n",
    " \n",
    "# Check for empty places on board\n",
    " \n",
    " \n",
    "def possibilities(board):\n",
    "    l = []\n",
    " \n",
    "    for i in range(len(board)):\n",
    "        for j in range(len(board)):\n",
    " \n",
    "            if board[i][j] == 0:\n",
    "                l.append((i, j))\n",
    "    return(l)\n",
    " \n",
    "# Select a random place for the player\n",
    " \n",
    " \n",
    "def random_place(board, player):\n",
    "    selection = possibilities(board)\n",
    "    current_loc = random.choice(selection)\n",
    "    board[current_loc] = player\n",
    "    return(board)\n",
    " \n",
    "# Checks whether the player has three\n",
    "# of their marks in a horizontal row\n",
    " \n",
    " \n",
    "def row_win(board, player):\n",
    "    for x in range(len(board)):\n",
    "        win = True\n",
    " \n",
    "        for y in range(len(board)):\n",
    "            if board[x, y] != player:\n",
    "                win = False\n",
    "                continue\n",
    " \n",
    "        if win == True:\n",
    "            return(win)\n",
    "    return(win)\n",
    " \n",
    "# Checks whether the player has three\n",
    "# of their marks in a vertical row\n",
    " \n",
    " \n",
    "def col_win(board, player):\n",
    "    for x in range(len(board)):\n",
    "        win = True\n",
    " \n",
    "        for y in range(len(board)):\n",
    "            if board[y][x] != player:\n",
    "                win = False\n",
    "                continue\n",
    " \n",
    "        if win == True:\n",
    "            return(win)\n",
    "    return(win)\n",
    " \n",
    "# Checks whether the player has three\n",
    "# of their marks in a diagonal row\n",
    " \n",
    " \n",
    "def diag_win(board, player):\n",
    "    win = True\n",
    "    y = 0\n",
    "    for x in range(len(board)):\n",
    "        if board[x, x] != player:\n",
    "            win = False\n",
    "    if win:\n",
    "        return win\n",
    "    win = True\n",
    "    if win:\n",
    "        for x in range(len(board)):\n",
    "            y = len(board) - 1 - x\n",
    "            if board[x, y] != player:\n",
    "                win = False\n",
    "    return win\n",
    " \n",
    "# Evaluates whether there is\n",
    "# a winner or a tie\n",
    " \n",
    " \n",
    "def evaluate(board):\n",
    "    winner = 0\n",
    " \n",
    "    for player in [1, 2]:\n",
    "        if (row_win(board, player) or\n",
    "                col_win(board, player) or\n",
    "                diag_win(board, player)):\n",
    " \n",
    "            winner = player\n",
    " \n",
    "    if np.all(board != 0) and winner == 0:\n",
    "        winner = -1\n",
    "    return winner\n",
    " \n",
    "# Main function to start the game\n",
    " \n",
    " \n",
    "def play_game():\n",
    "    board, winner, counter = create_board(), 0, 1\n",
    "    print(board)\n",
    "    sleep(2)\n",
    " \n",
    "    while winner == 0:\n",
    "        for player in [1, 2]:\n",
    "            board = random_place(board, player)\n",
    "            print(\"Board after \" + str(counter) + \" move\")\n",
    "            print(board)\n",
    "            sleep(2)\n",
    "            counter += 1\n",
    "            winner = evaluate(board)\n",
    "            if winner != 0:\n",
    "                break\n",
    "    return(winner)\n",
    " \n",
    " \n",
    "# Driver Code\n",
    "print(\"Winner is: \" + str(play_game()))"
   ]
  },
  {
   "cell_type": "markdown",
   "id": "7773570a-6e10-499b-a3ca-b1a33646a08e",
   "metadata": {},
   "source": [
    "     36. Write a program that generates Fibonacci numbers up to a specified term using iterative methods.\n"
   ]
  },
  {
   "cell_type": "code",
   "execution_count": 62,
   "id": "be7a63d3-1d43-457f-9a5c-949a4e910d3c",
   "metadata": {},
   "outputs": [
    {
     "name": "stdout",
     "output_type": "stream",
     "text": [
      "Fibonacci Series - \n",
      "0 1 1 2 3 5 8 "
     ]
    }
   ],
   "source": [
    "def PrintFibonacci(length):\n",
    "    #Initial variable for the base case. \n",
    "    first = 0\n",
    "    second = 1\n",
    "\n",
    "    #Printing the initial Fibonacci number.\n",
    "    print(first, second, end=\" \")\n",
    "\n",
    "    #decreasing the length by two because the first 2 Fibonacci numbers \n",
    "    #already printed.\n",
    "    length -= 2\n",
    "    \n",
    "    #Loop until the length becomes 0.\n",
    "    while length > 0:\n",
    "\n",
    "        #Printing the next Fibonacci number.\n",
    "        print(first + second, end=\" \")\n",
    "\n",
    "        #Updating the first and second variables for finding the next number. \n",
    "        temp = second\n",
    "        second = first + second\n",
    "        first = temp\n",
    "\n",
    "        #Decreasing the length that states the Fibonacci numbers to be \n",
    "        #printed more.\n",
    "        length -= 1\n",
    "\n",
    "if __name__ == \"__main__\":\n",
    "    print(\"Fibonacci Series - \")\n",
    "    PrintFibonacci(7)\n",
    "    pass"
   ]
  },
  {
   "cell_type": "markdown",
   "id": "f6502ffe-d6c6-4b42-83a8-63c943419a54",
   "metadata": {},
   "source": [
    "37. Develop a program that calculates the nth term of the Fibonacci sequence using memoization.\n"
   ]
  },
  {
   "cell_type": "code",
   "execution_count": 59,
   "id": "86640c32-2ef2-4a97-afed-bda3dae8a42e",
   "metadata": {},
   "outputs": [
    {
     "name": "stdout",
     "output_type": "stream",
     "text": [
      "4181\n"
     ]
    }
   ],
   "source": [
    "# Function for nth Fibonacci number\n",
    "\n",
    "def Fibonacci(n):\n",
    "\tif n<= 0:\n",
    "\t\tprint(\"Incorrect input\")\n",
    "\t# First Fibonacci number is 0\n",
    "\telif n == 1:\n",
    "\t\treturn 0\n",
    "\t# Second Fibonacci number is 1\n",
    "\telif n == 2:\n",
    "\t\treturn 1\n",
    "\telse:\n",
    "\t\treturn Fibonacci(n-1)+Fibonacci(n-2)\n",
    "\n",
    "# Driver Program\n",
    "\n",
    "print(Fibonacci(20))\n"
   ]
  },
  {
   "cell_type": "markdown",
   "id": "cafb616b-df41-4c60-b9e5-6d53d9b8ffe7",
   "metadata": {},
   "source": [
    "38. Create a program that generates a calendar for a given month and year using conditional statements.\n"
   ]
  },
  {
   "cell_type": "code",
   "execution_count": 55,
   "id": "04de6a2d-eb0b-44e8-a560-58daba184189",
   "metadata": {},
   "outputs": [
    {
     "name": "stdin",
     "output_type": "stream",
     "text": [
      "enter the year: 2024\n",
      "enter the month: 4\n"
     ]
    },
    {
     "name": "stdout",
     "output_type": "stream",
     "text": [
      "     April 2024\n",
      "Mo Tu We Th Fr Sa Su\n",
      " 1  2  3  4  5  6  7\n",
      " 8  9 10 11 12 13 14\n",
      "15 16 17 18 19 20 21\n",
      "22 23 24 25 26 27 28\n",
      "29 30\n",
      "\n"
     ]
    }
   ],
   "source": [
    "# Python program to display calendar of \n",
    "# given month of the year \n",
    "\n",
    "# import module \n",
    "import calendar \n",
    "\n",
    "yy = int(input(\"enter the year:\"))\n",
    "mm = int(input(\"enter the month:\"))\n",
    "\n",
    "# display the calendar \n",
    "print(calendar.month(yy, mm)) \n"
   ]
  },
  {
   "cell_type": "markdown",
   "id": "f4eaeae0-8e1c-4cd9-a4a9-d64d5358c1ce",
   "metadata": {},
   "source": [
    "    39. Build a program that simulates a basic text-based blackjack game against the computer.\n"
   ]
  },
  {
   "cell_type": "code",
   "execution_count": null,
   "id": "2feb558f-4543-4661-b84f-b4cc09fcef09",
   "metadata": {},
   "outputs": [],
   "source": [
    "def card_value(card):\n",
    "    \"\"\"Returns the integer value of a single card.\"\"\"\n",
    "\n",
    "    rank = card[0]\n",
    "    if rank in ranks[0:-4]:\n",
    "        return int(rank)\n",
    "    elif rank is 'ACE':\n",
    "        return 11\n",
    "    else:\n",
    "        return 10\n",
    "\n",
    "def hand_value(hand):\n",
    "    \"\"\"Returns the integer value of a set of cards.\"\"\"\n",
    "\n",
    "    # Naively sum up the cards in the deck.\n",
    "    tmp_value = sum(card_value(_) for _ in hand)\n",
    "    # Count the number of Aces in the hand.\n",
    "    num_aces = len([_ for _ in hand if _[0] is 'ACE'])\n",
    "\n",
    "    # Aces can count for 1, or 11. If it is possible to bring the value of \n",
    "    #the hand under 21 by making 11 -> 1 substitutions, do so.\n",
    "    while num_aces > 0:\n",
    "\n",
    "        if tmp_value > 21 and 'ACE' in ranks:\n",
    "            tmp_value -= 10\n",
    "            num_aces -= 1\n",
    "        else:\n",
    "            break\n",
    "\n",
    "    # Return a string and an integer representing the value of the hand. If \n",
    "    # the hand is bust, return 100.\n",
    "    if tmp_value < 21:\n",
    "        return [str(tmp_value), tmp_value]\n",
    "    elif tmp_value == 21:\n",
    "        return ['Blackjack!', 21]\n",
    "    else:\n",
    "        return ['Bust!', 100]"
   ]
  },
  {
   "cell_type": "markdown",
   "id": "abfb5fbc-ff93-4655-af6c-199fb9ca44d6",
   "metadata": {},
   "source": [
    "     40. Write a program that generates the prime factors of a given number using trial division.\n",
    "\n"
   ]
  },
  {
   "cell_type": "code",
   "execution_count": null,
   "id": "cab57abe-1d06-44fe-ae07-b756cd274fc2",
   "metadata": {},
   "outputs": [],
   "source": [
    "# Python program to print prime factors\n",
    "\n",
    "import math\n",
    "\n",
    "# A function to print all prime factors of\n",
    "# a given number n\n",
    "def primeFactors(n):\n",
    "\t\n",
    "\t# Print the number of two's that divide n\n",
    "\twhile n % 2 == 0:\n",
    "\t\tprint(2)\n",
    "\t\tn = n // 2\n",
    "\t\t\n",
    "\t# n must be odd at this point\n",
    "\t# so a skip of 2 ( i = i + 2) can be used\n",
    "\tfor i in range(3,int(math.sqrt(n))+1,2):\n",
    "\t\t\n",
    "\t\t# while i divides n , print i ad divide n\n",
    "\t\twhile n % i== 0:\n",
    "\t\t\tprint(i)\n",
    "\t\t\tn = n // i\n",
    "\t\t\t\n",
    "\t# Condition if n is a prime\n",
    "\t# number greater than 2\n",
    "\tif n > 2:\n",
    "\t\tprint(n)\n",
    "\t\t\n",
    "# Driver Program to test above function\n",
    "\n",
    "n = 315\n",
    "primeFactors(n)\n",
    "\n",
    "# This code is contributed by Harshit Agrawal \n",
    "#Code Improved by Sarthak Shrivastava\n"
   ]
  },
  {
   "cell_type": "code",
   "execution_count": null,
   "id": "da199a7d-1421-4d8f-a9dd-b74ccc9817d1",
   "metadata": {},
   "outputs": [],
   "source": []
  }
 ],
 "metadata": {
  "kernelspec": {
   "display_name": "Python 3 (ipykernel)",
   "language": "python",
   "name": "python3"
  },
  "language_info": {
   "codemirror_mode": {
    "name": "ipython",
    "version": 3
   },
   "file_extension": ".py",
   "mimetype": "text/x-python",
   "name": "python",
   "nbconvert_exporter": "python",
   "pygments_lexer": "ipython3",
   "version": "3.10.8"
  }
 },
 "nbformat": 4,
 "nbformat_minor": 5
}
